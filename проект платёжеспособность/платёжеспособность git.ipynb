{
 "cells": [
  {
   "cell_type": "markdown",
   "metadata": {},
   "source": [
    "Заказчик — кредитный отдел банка. Нужно разобраться, влияет ли семейное положение и количество детей клиента на факт погашения кредита в срок. Входные данные от банка — статистика о платёжеспособности клиентов.\n",
    "\n",
    "Результаты исследования будут учтены при построении модели **кредитного скоринга** — специальной системы, которая оценивает способность потенциального заёмщика вернуть кредит банку."
   ]
  },
  {
   "cell_type": "markdown",
   "metadata": {},
   "source": [
    "### Шаг 1. Откройте файл с данными и изучите общую информацию. "
   ]
  },
  {
   "cell_type": "code",
   "execution_count": 1,
   "metadata": {},
   "outputs": [],
   "source": [
    "import pandas as pd\n",
    "df = pd.read_csv('/datasets/data.csv')"
   ]
  },
  {
   "cell_type": "code",
   "execution_count": 2,
   "metadata": {
    "scrolled": false
   },
   "outputs": [
    {
     "name": "stdout",
     "output_type": "stream",
     "text": [
      "<class 'pandas.core.frame.DataFrame'>\n",
      "RangeIndex: 21525 entries, 0 to 21524\n",
      "Data columns (total 12 columns):\n",
      "children            21525 non-null int64\n",
      "days_employed       19351 non-null float64\n",
      "dob_years           21525 non-null int64\n",
      "education           21525 non-null object\n",
      "education_id        21525 non-null int64\n",
      "family_status       21525 non-null object\n",
      "family_status_id    21525 non-null int64\n",
      "gender              21525 non-null object\n",
      "income_type         21525 non-null object\n",
      "debt                21525 non-null int64\n",
      "total_income        19351 non-null float64\n",
      "purpose             21525 non-null object\n",
      "dtypes: float64(2), int64(5), object(5)\n",
      "memory usage: 2.0+ MB\n"
     ]
    },
    {
     "data": {
      "text/html": [
       "<div>\n",
       "<style scoped>\n",
       "    .dataframe tbody tr th:only-of-type {\n",
       "        vertical-align: middle;\n",
       "    }\n",
       "\n",
       "    .dataframe tbody tr th {\n",
       "        vertical-align: top;\n",
       "    }\n",
       "\n",
       "    .dataframe thead th {\n",
       "        text-align: right;\n",
       "    }\n",
       "</style>\n",
       "<table border=\"1\" class=\"dataframe\">\n",
       "  <thead>\n",
       "    <tr style=\"text-align: right;\">\n",
       "      <th></th>\n",
       "      <th>children</th>\n",
       "      <th>days_employed</th>\n",
       "      <th>dob_years</th>\n",
       "      <th>education</th>\n",
       "      <th>education_id</th>\n",
       "      <th>family_status</th>\n",
       "      <th>family_status_id</th>\n",
       "      <th>gender</th>\n",
       "      <th>income_type</th>\n",
       "      <th>debt</th>\n",
       "      <th>total_income</th>\n",
       "      <th>purpose</th>\n",
       "    </tr>\n",
       "  </thead>\n",
       "  <tbody>\n",
       "    <tr>\n",
       "      <td>0</td>\n",
       "      <td>1</td>\n",
       "      <td>-8437.673028</td>\n",
       "      <td>42</td>\n",
       "      <td>высшее</td>\n",
       "      <td>0</td>\n",
       "      <td>женат / замужем</td>\n",
       "      <td>0</td>\n",
       "      <td>F</td>\n",
       "      <td>сотрудник</td>\n",
       "      <td>0</td>\n",
       "      <td>253875.639453</td>\n",
       "      <td>покупка жилья</td>\n",
       "    </tr>\n",
       "    <tr>\n",
       "      <td>1</td>\n",
       "      <td>1</td>\n",
       "      <td>-4024.803754</td>\n",
       "      <td>36</td>\n",
       "      <td>среднее</td>\n",
       "      <td>1</td>\n",
       "      <td>женат / замужем</td>\n",
       "      <td>0</td>\n",
       "      <td>F</td>\n",
       "      <td>сотрудник</td>\n",
       "      <td>0</td>\n",
       "      <td>112080.014102</td>\n",
       "      <td>приобретение автомобиля</td>\n",
       "    </tr>\n",
       "    <tr>\n",
       "      <td>2</td>\n",
       "      <td>0</td>\n",
       "      <td>-5623.422610</td>\n",
       "      <td>33</td>\n",
       "      <td>Среднее</td>\n",
       "      <td>1</td>\n",
       "      <td>женат / замужем</td>\n",
       "      <td>0</td>\n",
       "      <td>M</td>\n",
       "      <td>сотрудник</td>\n",
       "      <td>0</td>\n",
       "      <td>145885.952297</td>\n",
       "      <td>покупка жилья</td>\n",
       "    </tr>\n",
       "    <tr>\n",
       "      <td>3</td>\n",
       "      <td>3</td>\n",
       "      <td>-4124.747207</td>\n",
       "      <td>32</td>\n",
       "      <td>среднее</td>\n",
       "      <td>1</td>\n",
       "      <td>женат / замужем</td>\n",
       "      <td>0</td>\n",
       "      <td>M</td>\n",
       "      <td>сотрудник</td>\n",
       "      <td>0</td>\n",
       "      <td>267628.550329</td>\n",
       "      <td>дополнительное образование</td>\n",
       "    </tr>\n",
       "    <tr>\n",
       "      <td>4</td>\n",
       "      <td>0</td>\n",
       "      <td>340266.072047</td>\n",
       "      <td>53</td>\n",
       "      <td>среднее</td>\n",
       "      <td>1</td>\n",
       "      <td>гражданский брак</td>\n",
       "      <td>1</td>\n",
       "      <td>F</td>\n",
       "      <td>пенсионер</td>\n",
       "      <td>0</td>\n",
       "      <td>158616.077870</td>\n",
       "      <td>сыграть свадьбу</td>\n",
       "    </tr>\n",
       "  </tbody>\n",
       "</table>\n",
       "</div>"
      ],
      "text/plain": [
       "   children  days_employed  dob_years education  education_id  \\\n",
       "0         1   -8437.673028         42    высшее             0   \n",
       "1         1   -4024.803754         36   среднее             1   \n",
       "2         0   -5623.422610         33   Среднее             1   \n",
       "3         3   -4124.747207         32   среднее             1   \n",
       "4         0  340266.072047         53   среднее             1   \n",
       "\n",
       "      family_status  family_status_id gender income_type  debt   total_income  \\\n",
       "0   женат / замужем                 0      F   сотрудник     0  253875.639453   \n",
       "1   женат / замужем                 0      F   сотрудник     0  112080.014102   \n",
       "2   женат / замужем                 0      M   сотрудник     0  145885.952297   \n",
       "3   женат / замужем                 0      M   сотрудник     0  267628.550329   \n",
       "4  гражданский брак                 1      F   пенсионер     0  158616.077870   \n",
       "\n",
       "                      purpose  \n",
       "0               покупка жилья  \n",
       "1     приобретение автомобиля  \n",
       "2               покупка жилья  \n",
       "3  дополнительное образование  \n",
       "4             сыграть свадьбу  "
      ]
     },
     "execution_count": 2,
     "metadata": {},
     "output_type": "execute_result"
    }
   ],
   "source": [
    "df.info()\n",
    "df.head()"
   ]
  },
  {
   "cell_type": "markdown",
   "metadata": {},
   "source": [
    "#### Вывод"
   ]
  },
  {
   "cell_type": "markdown",
   "metadata": {},
   "source": [
    "Всего в таблице 12 столбцов.\n",
    "Каждая строка содержит информацию о заёмщике, которая необходима банку для оценки надёжности и платёжеспособности клиентов.\n",
    "\n",
    "Не понятно почему количество дней найма - отрицательные и что это вообще за значения такие - строка 4 - 340 тысяч дней найма - столько не живут. В столбце есть пропущенные значения. Скорее всего данные из этого столбца не понадобятся для ответа на вопросы исследования.\n",
    "\n",
    "В столбце, который нам понадобится для ответана вопрос - total_income - пропущенные значения. \n",
    "\n",
    "Одинаковое количество пропусков в столбцах total_income и days_employed\n",
    "\n",
    "Разный регистр в столбце education.\n",
    "\n",
    "Сначала нужно решить проблему с пропусками. "
   ]
  },
  {
   "cell_type": "markdown",
   "metadata": {},
   "source": [
    "### Шаг 2. Предобработка данных"
   ]
  },
  {
   "cell_type": "markdown",
   "metadata": {},
   "source": [
    "#### Обработка пропусков"
   ]
  },
  {
   "cell_type": "code",
   "execution_count": 3,
   "metadata": {
    "scrolled": false
   },
   "outputs": [
    {
     "name": "stdout",
     "output_type": "stream",
     "text": [
      "                  total_income\n",
      "income_type                   \n",
      "безработный      131339.751676\n",
      "в декрете         53829.130729\n",
      "госслужащий      150447.935283\n",
      "компаньон        172357.950966\n",
      "пенсионер        118514.486412\n",
      "предприниматель  499163.144947\n",
      "сотрудник        142594.396847\n",
      "студент           98201.625314\n"
     ]
    },
    {
     "data": {
      "text/plain": [
       "children            0\n",
       "days_employed       0\n",
       "dob_years           0\n",
       "education           0\n",
       "education_id        0\n",
       "family_status       0\n",
       "family_status_id    0\n",
       "gender              0\n",
       "income_type         0\n",
       "debt                0\n",
       "total_income        0\n",
       "purpose             0\n",
       "dtype: int64"
      ]
     },
     "execution_count": 3,
     "metadata": {},
     "output_type": "execute_result"
    }
   ],
   "source": [
    "#Исключим пропуски\n",
    "df.isnull().sum() #посмотрим где есть пропуски\n",
    "df[df['total_income'].isnull()].head() #смотрим тип - это NaN\n",
    "df[df['days_employed'].isnull()].head()\n",
    "\n",
    "# убираем отрицательные значения в 'days_employed', чтобы не заменять отрицательной медианой. \n",
    "# возможно это измерения не в днях, а в часах. \n",
    "df['days_employed'] = df['days_employed'].abs()\n",
    "df['total_income'] = df['total_income'].abs()\n",
    "\n",
    "work_days = df['days_employed'].median() #найдём медиану (без экстрима)\n",
    "df['days_employed'] = df['days_employed'].fillna(work_days) # и заменим медианой пропуски\n",
    "\n",
    "# попробуем по совету вьера заменить медианами по типу дохода\n",
    "# получаем таблицу со средними значениями для каждого типа, вспомним про agg()\n",
    "median_table = df.groupby(['income_type']).agg({'total_income' : 'median'})\n",
    "print(median_table)\n",
    "\n",
    "for inc_type in median_table.index:\n",
    "    df.loc[df['income_type'] == inc_type,'total_income'] = df.loc[df['income_type'] == \n",
    "inc_type,'total_income'].fillna(median_table.loc[inc_type, 'total_income'])\n",
    "#median_table.index - список с индексами в median_table, а индексы - медианы\n",
    "\n",
    "\n",
    "#income_median = df['total_income'].median()\n",
    "#df['total_income'] = df['total_income'].fillna(income_median)\n",
    "\n",
    "\n",
    "df['children'].value_counts() #в нужном для задания столбце children есть значения -1 и 20\n",
    "df['children'] = df['children'].replace(-1, 1)\n",
    "df['children'] = df['children'].replace(20, 2)\n",
    "\n",
    " \n",
    "df['gender'].unique() #получили значение 'XNA' - сейчас это стало так модно)\n",
    "#(df[df['gender'] == 'XNA'])\n",
    "df['gender'] = df['gender'].replace('XNA', 'M')\n",
    "\n",
    "\n",
    "df['dob_years'].unique() #проскачил нолик\n",
    "age_median = df['dob_years'].median()\n",
    "df['dob_years'] = df['dob_years'].replace(0, age_median)\n",
    "#df['dob_years'].unique()\n",
    "df.isnull().sum() # смотрим - есть ли пропуски"
   ]
  },
  {
   "cell_type": "markdown",
   "metadata": {},
   "source": [
    "#### Вывод"
   ]
  },
  {
   "cell_type": "markdown",
   "metadata": {},
   "source": [
    "В столбцах days_employed и total_income одинаковое количество пропущеных значений - 2174. Возможно люди не в состоянии посчитать сколько они работают или не хотят указывать.\n",
    "\n",
    "Пропуски в столбце total_income возможны из-за того, что не хотели указывать свой доход или нет таких сведений у людей. Заменил медианой. Оптимально. \n",
    "\n",
    "В столбце children встречаются количества детей: -1 и 20 - возможно опечатка. Меняем на 1 и 2. \n",
    "\n",
    "В столбце gender - неопределёный пол 'XNA'. заменить можно на любой т.к. Замена не повлияет на результат.\n",
    "\n",
    "В толбце dob_years - есть нулевые значения. Возможно это женщина и не захотела указывать количество лет. Возможно невнимательность. Заменил медианой."
   ]
  },
  {
   "cell_type": "markdown",
   "metadata": {},
   "source": [
    "#### Замена типа данных"
   ]
  },
  {
   "cell_type": "code",
   "execution_count": 4,
   "metadata": {},
   "outputs": [
    {
     "data": {
      "text/html": [
       "<div>\n",
       "<style scoped>\n",
       "    .dataframe tbody tr th:only-of-type {\n",
       "        vertical-align: middle;\n",
       "    }\n",
       "\n",
       "    .dataframe tbody tr th {\n",
       "        vertical-align: top;\n",
       "    }\n",
       "\n",
       "    .dataframe thead th {\n",
       "        text-align: right;\n",
       "    }\n",
       "</style>\n",
       "<table border=\"1\" class=\"dataframe\">\n",
       "  <thead>\n",
       "    <tr style=\"text-align: right;\">\n",
       "      <th></th>\n",
       "      <th>children</th>\n",
       "      <th>days_employed</th>\n",
       "      <th>dob_years</th>\n",
       "      <th>education</th>\n",
       "      <th>education_id</th>\n",
       "      <th>family_status</th>\n",
       "      <th>family_status_id</th>\n",
       "      <th>gender</th>\n",
       "      <th>income_type</th>\n",
       "      <th>debt</th>\n",
       "      <th>total_income</th>\n",
       "      <th>purpose</th>\n",
       "    </tr>\n",
       "  </thead>\n",
       "  <tbody>\n",
       "    <tr>\n",
       "      <td>0</td>\n",
       "      <td>1</td>\n",
       "      <td>8437</td>\n",
       "      <td>42</td>\n",
       "      <td>высшее</td>\n",
       "      <td>0</td>\n",
       "      <td>женат / замужем</td>\n",
       "      <td>0</td>\n",
       "      <td>F</td>\n",
       "      <td>сотрудник</td>\n",
       "      <td>0</td>\n",
       "      <td>253875</td>\n",
       "      <td>покупка жилья</td>\n",
       "    </tr>\n",
       "    <tr>\n",
       "      <td>1</td>\n",
       "      <td>1</td>\n",
       "      <td>4024</td>\n",
       "      <td>36</td>\n",
       "      <td>среднее</td>\n",
       "      <td>1</td>\n",
       "      <td>женат / замужем</td>\n",
       "      <td>0</td>\n",
       "      <td>F</td>\n",
       "      <td>сотрудник</td>\n",
       "      <td>0</td>\n",
       "      <td>112080</td>\n",
       "      <td>приобретение автомобиля</td>\n",
       "    </tr>\n",
       "    <tr>\n",
       "      <td>2</td>\n",
       "      <td>0</td>\n",
       "      <td>5623</td>\n",
       "      <td>33</td>\n",
       "      <td>среднее</td>\n",
       "      <td>1</td>\n",
       "      <td>женат / замужем</td>\n",
       "      <td>0</td>\n",
       "      <td>M</td>\n",
       "      <td>сотрудник</td>\n",
       "      <td>0</td>\n",
       "      <td>145885</td>\n",
       "      <td>покупка жилья</td>\n",
       "    </tr>\n",
       "    <tr>\n",
       "      <td>3</td>\n",
       "      <td>3</td>\n",
       "      <td>4124</td>\n",
       "      <td>32</td>\n",
       "      <td>среднее</td>\n",
       "      <td>1</td>\n",
       "      <td>женат / замужем</td>\n",
       "      <td>0</td>\n",
       "      <td>M</td>\n",
       "      <td>сотрудник</td>\n",
       "      <td>0</td>\n",
       "      <td>267628</td>\n",
       "      <td>дополнительное образование</td>\n",
       "    </tr>\n",
       "    <tr>\n",
       "      <td>4</td>\n",
       "      <td>0</td>\n",
       "      <td>340266</td>\n",
       "      <td>53</td>\n",
       "      <td>среднее</td>\n",
       "      <td>1</td>\n",
       "      <td>гражданский брак</td>\n",
       "      <td>1</td>\n",
       "      <td>F</td>\n",
       "      <td>пенсионер</td>\n",
       "      <td>0</td>\n",
       "      <td>158616</td>\n",
       "      <td>сыграть свадьбу</td>\n",
       "    </tr>\n",
       "  </tbody>\n",
       "</table>\n",
       "</div>"
      ],
      "text/plain": [
       "   children  days_employed  dob_years education  education_id  \\\n",
       "0         1           8437         42    высшее             0   \n",
       "1         1           4024         36   среднее             1   \n",
       "2         0           5623         33   среднее             1   \n",
       "3         3           4124         32   среднее             1   \n",
       "4         0         340266         53   среднее             1   \n",
       "\n",
       "      family_status  family_status_id gender income_type  debt  total_income  \\\n",
       "0   женат / замужем                 0      F   сотрудник     0        253875   \n",
       "1   женат / замужем                 0      F   сотрудник     0        112080   \n",
       "2   женат / замужем                 0      M   сотрудник     0        145885   \n",
       "3   женат / замужем                 0      M   сотрудник     0        267628   \n",
       "4  гражданский брак                 1      F   пенсионер     0        158616   \n",
       "\n",
       "                      purpose  \n",
       "0               покупка жилья  \n",
       "1     приобретение автомобиля  \n",
       "2               покупка жилья  \n",
       "3  дополнительное образование  \n",
       "4             сыграть свадьбу  "
      ]
     },
     "execution_count": 4,
     "metadata": {},
     "output_type": "execute_result"
    }
   ],
   "source": [
    "df['total_income'] = df['total_income'].astype('int') #перевёл в целочисленные значения столбец total_income, так удобнее считать\n",
    "df['days_employed'] = df['days_employed'].astype('int') #для удобства переведём в целочисленные значения столбец days_employed\n",
    "df['education'] = df['education'].str.lower() #приведём к нижнему регистру значения в столбце education для порядка\n",
    "df['family_status'].value_counts() # Не женат / не замужем - не порядок!\n",
    "df['family_status'] = df['family_status'].str.lower()\n",
    "#df['family_status'].value_counts() #порядок\n",
    "df.head()"
   ]
  },
  {
   "cell_type": "markdown",
   "metadata": {},
   "source": [
    "#### Вывод"
   ]
  },
  {
   "cell_type": "markdown",
   "metadata": {},
   "source": [
    "Для ответа на главные вопросы нам понадобятся столбцы purpose, total_income, debt, children."
   ]
  },
  {
   "cell_type": "markdown",
   "metadata": {},
   "source": [
    "#### Обработка дубликатов"
   ]
  },
  {
   "cell_type": "code",
   "execution_count": 5,
   "metadata": {},
   "outputs": [
    {
     "data": {
      "text/plain": [
       "children            0\n",
       "days_employed       0\n",
       "dob_years           0\n",
       "education           0\n",
       "education_id        0\n",
       "family_status       0\n",
       "family_status_id    0\n",
       "gender              0\n",
       "income_type         0\n",
       "debt                0\n",
       "total_income        0\n",
       "purpose             0\n",
       "dtype: int64"
      ]
     },
     "execution_count": 5,
     "metadata": {},
     "output_type": "execute_result"
    }
   ],
   "source": [
    "df.duplicated().sum() #считаем дубликаты, получаем 72.\n",
    "df = df.drop_duplicates().reset_index(drop=True)\n",
    "df.duplicated().sum() #дубликатов нет\n",
    "df.isnull().sum() #пропусков нет"
   ]
  },
  {
   "cell_type": "markdown",
   "metadata": {},
   "source": [
    "#### Вывод"
   ]
  },
  {
   "cell_type": "markdown",
   "metadata": {},
   "source": [
    "Методами duplicated().sum() - нашли 72 дубликата. Убрал прекрасным методом. Количество дубликатов трудно назвать существенным. Возмжная причина появления дубликатов - невнимательность, человеческий фактор, сбой в записи данных. Возможно один и тот же человек подавал заявку дважды."
   ]
  },
  {
   "cell_type": "markdown",
   "metadata": {},
   "source": [
    "#### Лемматизация"
   ]
  },
  {
   "cell_type": "code",
   "execution_count": 6,
   "metadata": {},
   "outputs": [
    {
     "name": "stdout",
     "output_type": "stream",
     "text": [
      "Counter({' ': 96, 'покупка': 10, 'недвижимость': 10, 'автомобиль': 9, 'образование': 9, 'жилье': 7, 'с': 5, 'операция': 4, 'на': 4, 'свой': 4, 'свадьба': 3, 'строительство': 3, 'получение': 3, 'высокий': 3, 'дополнительный': 2, 'для': 2, 'коммерческий': 2, 'жилой': 2, 'подержать': 2, 'заниматься': 2, 'сделка': 2, 'приобретение': 1, 'сыграть': 1, 'проведение': 1, 'семья': 1, 'собственный': 1, 'со': 1, 'профильный': 1, 'сдача': 1, 'ремонт': 1, '\\n': 1})\n"
     ]
    },
    {
     "data": {
      "text/plain": [
       "недвижимость    10811\n",
       "автомобиль       4306\n",
       "образование      4013\n",
       "свадьба          2323\n",
       "Name: purpose_lemma, dtype: int64"
      ]
     },
     "execution_count": 6,
     "metadata": {},
     "output_type": "execute_result"
    }
   ],
   "source": [
    "text = ' '.join(df['purpose'].unique())\n",
    "from pymystem3 import Mystem\n",
    "m = Mystem()\n",
    "lemmas = m.lemmatize(text)\n",
    "from collections import Counter\n",
    "counter = Counter(lemmas)\n",
    "print(counter) # посмотрим, для чего людям нужен кредит\n",
    "# функция будет искать леммы в исходных целях кредита\n",
    "def words(purpose): \n",
    "    lemmas = m.lemmatize(purpose)\n",
    "    try:\n",
    "        if ('жилье' in lemmas) or ('недвижимость' in lemmas):\n",
    "            return 'недвижимость'\n",
    "        if 'автомобиль' in lemmas:\n",
    "            return 'автомобиль'\n",
    "        if 'образование' in lemmas:\n",
    "            return 'образование'\n",
    "        if 'свадьба' in lemmas:\n",
    "            return 'свадьба'\n",
    "        else:\n",
    "            return 'нет данных'\n",
    "    except:\n",
    "        return 'что-то не так'\n",
    "    \n",
    "#print(words('образование')) # проверка\n",
    "df['purpose_lemma'] = df['purpose'].apply(words)\n",
    "#print(df.head())\n",
    "df['purpose_lemma'].value_counts() # на какие же цели берут кредиты больше всего?\n",
    "\n",
    "#df.head(20)"
   ]
  },
  {
   "cell_type": "markdown",
   "metadata": {},
   "source": [
    "#### Вывод"
   ]
  },
  {
   "cell_type": "markdown",
   "metadata": {},
   "source": [
    "Основные цели, которые явно просматриваются среди лемм - недвижимость, автомобиль, образование и свадьба. Самая популярная цель кредита - недвижимость и операции с ней."
   ]
  },
  {
   "cell_type": "markdown",
   "metadata": {},
   "source": [
    "#### Категоризация данных"
   ]
  },
  {
   "cell_type": "code",
   "execution_count": 7,
   "metadata": {},
   "outputs": [
    {
     "name": "stdout",
     "output_type": "stream",
     "text": [
      "нет детей    14090\n",
      "есть дети     7363\n",
      "Name: groups, dtype: int64\n",
      "\n",
      "женат / замужем          12339\n",
      "гражданский брак          4150\n",
      "не женат / не замужем     2810\n",
      "в разводе                 1195\n",
      "вдовец / вдова             959\n",
      "Name: family_status, dtype: int64\n",
      "\n",
      "debt  category        \n",
      "0     богатые             15603\n",
      "      состоятельные        2007\n",
      "      средний достаток     1987\n",
      "      выше бедности         115\n",
      "1     богатые              1387\n",
      "      состоятельные         180\n",
      "      средний достаток      164\n",
      "      выше бедности          10\n",
      "Name: category, dtype: int64\n",
      "\n",
      "богатые             16990\n",
      "состоятельные        2187\n",
      "средний достаток     2151\n",
      "выше бедности         125\n",
      "Name: category, dtype: int64\n",
      "\n",
      "недвижимость    10811\n",
      "автомобиль       4306\n",
      "образование      4013\n",
      "свадьба          2323\n",
      "Name: purpose_lemma, dtype: int64\n",
      "\n",
      "             education  education_id\n",
      "0               высшее             0\n",
      "1              среднее             1\n",
      "2  неоконченное высшее             2\n",
      "3            начальное             3\n",
      "4       ученая степень             4\n",
      "\n",
      "           family_status  family_status_id\n",
      "0        женат / замужем                 0\n",
      "1       гражданский брак                 1\n",
      "2         вдовец / вдова                 2\n",
      "3              в разводе                 3\n",
      "4  не женат / не замужем                 4\n"
     ]
    }
   ],
   "source": [
    "#разделим заёмщиков на родителей и бездетных\n",
    "children_debt = df[['children', 'debt']].copy() #создадим копию таблицы с необходимыми столбцами\n",
    "def kids_dept(children): #создадим функцию, которая отделяет родителей от бездетных\n",
    "    if children < 1:\n",
    "        return 'нет детей'\n",
    "    if children >= 1:\n",
    "        return 'есть дети'\n",
    "#print(kids_dept(1)) #проверим работу функции\n",
    "children_debt['groups'] = children_debt['children'].apply(kids_dept) #добавим новый столбец\n",
    "print(children_debt['groups'].value_counts())\n",
    "print()\n",
    "\n",
    "# посмотрим как семейное положение влияет на количество обращений в банк\n",
    "print(df['family_status'].value_counts())\n",
    "print()\n",
    "\n",
    "#создадим функцию, которая разобьёт заёмщиков на категории по уровню дохода\n",
    "income_debt = df[['total_income', 'debt']].copy()\n",
    "df['total_income'].max() #максимальное значение 2265604\n",
    "df['total_income'].min() #минимальное значение 20667\n",
    "def income_category(total_income):\n",
    "    if total_income >= 20000 and total_income <= 40000:\n",
    "        return 'выше бедности'\n",
    "    if total_income > 40000 and total_income <= 80000:\n",
    "        return 'средний достаток'\n",
    "    if total_income > 80000 and total_income <= 100000:\n",
    "        return 'состоятельные'\n",
    "    if total_income > 100000:\n",
    "        return 'богатые'\n",
    "#income_category(200000) #проверим\n",
    "#добавим столбец с результатами работы функции\n",
    "income_debt['category'] = income_debt['total_income'].apply(income_category)\n",
    "#income_debt.head(10) #посмотрим результат работы функции и метода apply\n",
    "income_debt_category = income_debt.groupby('category').sum()\n",
    "income_debt_category_total = income_debt['category'].value_counts()\n",
    "debt_category = income_debt.groupby('debt')['category'].value_counts()\n",
    "print(debt_category)\n",
    "print()\n",
    "print(income_debt_category_total)\n",
    "income_debt_category['total'] = income_debt_category_total\n",
    "#print(income_debt_category)\n",
    "\n",
    "print()\n",
    "# понадобятся два столбца для выявления влияния целей кредита на возвращаемость\n",
    "purpose_dept = df[['purpose_lemma', 'debt']].copy()\n",
    "purposes_count = df['purpose_lemma'].value_counts() # на какие цели берут кредиты больше всего?\n",
    "responsible_depts = purpose_dept.groupby('debt')['purpose_lemma'].value_counts() # отделим должников от ответственных\n",
    "#print(responsible_depts)\n",
    "print(purposes_count)\n",
    "\n",
    "print()\n",
    "education_dict = df[['education', 'education_id']]\n",
    "#print(len(df['education_id'].unique()))\n",
    "#print(education_dict.head())\n",
    "education_dict = education_dict.drop_duplicates().reset_index(drop=True)\n",
    "print(education_dict.sort_values('education_id'))\n",
    "\n",
    "print()\n",
    "family_status_dict = df[['family_status', 'family_status_id']]\n",
    "family_status_dict = family_status_dict.drop_duplicates().reset_index(drop=True)\n",
    "print(family_status_dict.sort_values('family_status_id'))"
   ]
  },
  {
   "cell_type": "markdown",
   "metadata": {},
   "source": [
    "#### Вывод"
   ]
  },
  {
   "cell_type": "markdown",
   "metadata": {},
   "source": [
    "За кредитом чаще обращаются семьи, бездетные люди и заёмщики с высоким доходом. Чаще всего кредиты берут для операции с недвижимостью.\n",
    "\n",
    "Есть соблазн написать, что чаще всего обращаются за кредитом бездетные семьи с высоким доходом с целью покупки недвижимости, но я бы не стал делать такие выводы на основе данных.\n",
    "\n",
    "Для категоризации по уровню дохода обратимся к данным Федеральной службы государственной статистики:\n",
    "\n",
    "-крайняя нищета — доходы ниже прожиточного минимума (до 7-8 тыс.р.)\n",
    "\n",
    "-нищета — доходы от одного до двух прожиточных минимумов (от 8 до 12 тыс.р.)\n",
    "\n",
    "-бедность — доходы от 12 до 20 тысяч рублей в месяц.\n",
    "\n",
    "-выше бедности — доходы от 20 до 30 тысяч рублей в месяц.\n",
    "\n",
    "-средний достаток — доходы от 30 до 60 тысяч рублей в месяц.\n",
    "\n",
    "-состоятельные — доходы от 60 до 90 тысяч рублей в месяц.\n",
    "\n",
    "-богатые — доходы от 90 тысяч рублей в месяц.\n",
    "\n",
    "Категоризируем согласно этим данным, немного увеличив дипазон, так как данные ФСГС немного преукрашены. Если мы расширим диапозон \"выше бедности\" от 20т.р. до 40т.р. - это будет больше похоже на рпавду. "
   ]
  },
  {
   "cell_type": "markdown",
   "metadata": {},
   "source": [
    "### Шаг 3. Ответы на поставленные вопросы"
   ]
  },
  {
   "cell_type": "markdown",
   "metadata": {},
   "source": [
    "#### - Есть ли зависимость между наличием детей и возвратом кредита в срок?"
   ]
  },
  {
   "cell_type": "code",
   "execution_count": 8,
   "metadata": {},
   "outputs": [
    {
     "data": {
      "text/plain": [
       "groups     debt\n",
       "есть дети  0        6685\n",
       "           1         678\n",
       "нет детей  0       13027\n",
       "           1        1063\n",
       "Name: debt, dtype: int64"
      ]
     },
     "execution_count": 8,
     "metadata": {},
     "output_type": "execute_result"
    }
   ],
   "source": [
    "# посчитаем количество должников\n",
    "debt_count = children_debt.groupby('groups')['debt'].value_counts() #посчитаем должников и отдающих в срок\n",
    "\n",
    "debt_count"
   ]
  },
  {
   "cell_type": "code",
   "execution_count": 9,
   "metadata": {},
   "outputs": [
    {
     "name": "stdout",
     "output_type": "stream",
     "text": [
      "Должники среди родителей: 9.2%\n",
      "Должники среди бездетных: 7.5%\n"
     ]
    }
   ],
   "source": [
    "parents_dept = debt_count['есть дети'][1] / 7363 #наверно деления на цифру тоже можно как то избежать, но так проще\n",
    "child_free_dept = debt_count['нет детей'][1] / 14090\n",
    "\n",
    "print('Должники среди родителей: {:.1%}'.format(parents_dept)) #выведем в процентах\n",
    "print('Должники среди бездетных: {:.1%}'.format(child_free_dept))"
   ]
  },
  {
   "cell_type": "markdown",
   "metadata": {},
   "source": [
    "#### Вывод"
   ]
  },
  {
   "cell_type": "markdown",
   "metadata": {},
   "source": [
    "Большее количество должников среди бездетных не означает, что им не чтоит выдавать кредиты, они чаще обращаются за займом. Если смотреть на процент, то должников среди бездетных заёмщиков меньше. Разницу в 1.7% трудно назвать показательной, скорее она незначительная."
   ]
  },
  {
   "cell_type": "markdown",
   "metadata": {},
   "source": [
    "#### - Есть ли зависимость между семейным положением и возвратом кредита в срок?"
   ]
  },
  {
   "cell_type": "code",
   "execution_count": 10,
   "metadata": {},
   "outputs": [
    {
     "data": {
      "text/html": [
       "<div>\n",
       "<style scoped>\n",
       "    .dataframe tbody tr th:only-of-type {\n",
       "        vertical-align: middle;\n",
       "    }\n",
       "\n",
       "    .dataframe tbody tr th {\n",
       "        vertical-align: top;\n",
       "    }\n",
       "\n",
       "    .dataframe thead th {\n",
       "        text-align: right;\n",
       "    }\n",
       "</style>\n",
       "<table border=\"1\" class=\"dataframe\">\n",
       "  <thead>\n",
       "    <tr style=\"text-align: right;\">\n",
       "      <th></th>\n",
       "      <th>семейное положение</th>\n",
       "      <th>должники</th>\n",
       "      <th>общее кол-во</th>\n",
       "      <th>процент должников</th>\n",
       "    </tr>\n",
       "  </thead>\n",
       "  <tbody>\n",
       "    <tr>\n",
       "      <td>0</td>\n",
       "      <td>женат / замужем</td>\n",
       "      <td>931</td>\n",
       "      <td>12339</td>\n",
       "      <td>8%</td>\n",
       "    </tr>\n",
       "    <tr>\n",
       "      <td>1</td>\n",
       "      <td>гражданский брак</td>\n",
       "      <td>388</td>\n",
       "      <td>4150</td>\n",
       "      <td>9%</td>\n",
       "    </tr>\n",
       "    <tr>\n",
       "      <td>2</td>\n",
       "      <td>не женат / не замужем</td>\n",
       "      <td>274</td>\n",
       "      <td>2536</td>\n",
       "      <td>11%</td>\n",
       "    </tr>\n",
       "    <tr>\n",
       "      <td>3</td>\n",
       "      <td>в разводе</td>\n",
       "      <td>85</td>\n",
       "      <td>1110</td>\n",
       "      <td>8%</td>\n",
       "    </tr>\n",
       "    <tr>\n",
       "      <td>4</td>\n",
       "      <td>вдовец / вдова</td>\n",
       "      <td>63</td>\n",
       "      <td>896</td>\n",
       "      <td>7%</td>\n",
       "    </tr>\n",
       "  </tbody>\n",
       "</table>\n",
       "</div>"
      ],
      "text/plain": [
       "      семейное положение  должники  общее кол-во процент должников\n",
       "0        женат / замужем       931         12339                8%\n",
       "1       гражданский брак       388          4150                9%\n",
       "2  не женат / не замужем       274          2536               11%\n",
       "3              в разводе        85          1110                8%\n",
       "4         вдовец / вдова        63           896                7%"
      ]
     },
     "execution_count": 10,
     "metadata": {},
     "output_type": "execute_result"
    }
   ],
   "source": [
    "# создадим таблицу с необходимыми столбцами\n",
    "family_status_debt = df[['family_status', 'family_status_id', 'debt']].copy()\n",
    "family_status_debt.head()\n",
    "family_status_debt['family_status'].value_counts()\n",
    "\n",
    "pd.DataFrame(family_status_debt.groupby('debt')['family_status'].value_counts())\n",
    "\n",
    "# на основе полученных данных сделаем общуу таблицу\n",
    "data = [['женат / замужем', 931, 12339],\n",
    "       ['гражданский брак', 388, 4150],\n",
    "        ['не женат / не замужем', 274, 2536],\n",
    "        ['в разводе', 85, 1110],\n",
    "        ['вдовец / вдова', 63, 896]]\n",
    "columns = ['семейное положение', 'должники', 'общее кол-во']\n",
    "total_debt = pd.DataFrame(data = data, columns = columns)\n",
    "index = total_debt['должники'] / total_debt['общее кол-во'] # найдём отношение\n",
    "def index_per(index):\n",
    "    return '{:.0%}'.format(index)\n",
    "total_debt['процент должников'] = index.apply(index_per) # добавим столбец с процентным соотношением\n",
    "total_debt\n"
   ]
  },
  {
   "cell_type": "markdown",
   "metadata": {},
   "source": [
    "#### Вывод"
   ]
  },
  {
   "cell_type": "markdown",
   "metadata": {},
   "source": [
    "Должники среди тех кто не женат / не замужем - лидируют - 11%, хотя больше всего задолжали те, кто женат / замужем - 931 чел., но они и чаще обращаются в банк - 12339 чел."
   ]
  },
  {
   "cell_type": "markdown",
   "metadata": {},
   "source": [
    "#### - Есть ли зависимость между уровнем дохода и возвратом кредита в срок?"
   ]
  },
  {
   "cell_type": "code",
   "execution_count": 11,
   "metadata": {},
   "outputs": [
    {
     "data": {
      "text/html": [
       "<div>\n",
       "<style scoped>\n",
       "    .dataframe tbody tr th:only-of-type {\n",
       "        vertical-align: middle;\n",
       "    }\n",
       "\n",
       "    .dataframe tbody tr th {\n",
       "        vertical-align: top;\n",
       "    }\n",
       "\n",
       "    .dataframe thead th {\n",
       "        text-align: right;\n",
       "    }\n",
       "</style>\n",
       "<table border=\"1\" class=\"dataframe\">\n",
       "  <thead>\n",
       "    <tr style=\"text-align: right;\">\n",
       "      <th></th>\n",
       "      <th>категория</th>\n",
       "      <th>должники</th>\n",
       "      <th>общее кол-во</th>\n",
       "      <th>процент должников</th>\n",
       "    </tr>\n",
       "  </thead>\n",
       "  <tbody>\n",
       "    <tr>\n",
       "      <td>0</td>\n",
       "      <td>богатые</td>\n",
       "      <td>1387</td>\n",
       "      <td>16990</td>\n",
       "      <td>8.2%</td>\n",
       "    </tr>\n",
       "    <tr>\n",
       "      <td>2</td>\n",
       "      <td>состоятельные</td>\n",
       "      <td>180</td>\n",
       "      <td>2187</td>\n",
       "      <td>8.2%</td>\n",
       "    </tr>\n",
       "    <tr>\n",
       "      <td>1</td>\n",
       "      <td>выше бедности</td>\n",
       "      <td>10</td>\n",
       "      <td>125</td>\n",
       "      <td>8.0%</td>\n",
       "    </tr>\n",
       "    <tr>\n",
       "      <td>3</td>\n",
       "      <td>средний достаток</td>\n",
       "      <td>164</td>\n",
       "      <td>2151</td>\n",
       "      <td>7.6%</td>\n",
       "    </tr>\n",
       "  </tbody>\n",
       "</table>\n",
       "</div>"
      ],
      "text/plain": [
       "          категория  должники  общее кол-во процент должников\n",
       "0           богатые      1387         16990              8.2%\n",
       "2     состоятельные       180          2187              8.2%\n",
       "1     выше бедности        10           125              8.0%\n",
       "3  средний достаток       164          2151              7.6%"
      ]
     },
     "execution_count": 11,
     "metadata": {},
     "output_type": "execute_result"
    }
   ],
   "source": [
    "# полученные при категоризации данные свдём в таблицу\n",
    "data = [['богатые', 1387, 16990],\n",
    "       ['выше бедности', 10, 125],\n",
    "       ['состоятельные', 180, 2187],\n",
    "       ['средний достаток', 164, 2151]]\n",
    "columns = ['категория', 'должники', 'общее кол-во']\n",
    "income_table = pd.DataFrame(data = data, columns = columns)\n",
    "percent = income_table['должники'] / income_table['общее кол-во']\n",
    "\n",
    "\n",
    "\n",
    "#переведём столбец 'процент задолжавших' в проценты\n",
    "def index_perc(percent):\n",
    "    return '{:.1%}'.format(percent)\n",
    "income_table['процент должников'] = percent.apply(index_perc)\n",
    "income_table.sort_values(by='процент должников', ascending = False)\n"
   ]
  },
  {
   "cell_type": "markdown",
   "metadata": {},
   "source": [
    "#### Вывод"
   ]
  },
  {
   "cell_type": "markdown",
   "metadata": {},
   "source": [
    "Богатые и состоятельные люди не спешат отдавать кредиты. В целом разница в процентах совсем мала, что бы сделать вывод о влиянии финансового положения на возвращаемость кредитов."
   ]
  },
  {
   "cell_type": "markdown",
   "metadata": {},
   "source": [
    "#### - Как разные цели кредита влияют на его возврат в срок?"
   ]
  },
  {
   "cell_type": "code",
   "execution_count": 12,
   "metadata": {
    "scrolled": true
   },
   "outputs": [
    {
     "data": {
      "text/html": [
       "<div>\n",
       "<style scoped>\n",
       "    .dataframe tbody tr th:only-of-type {\n",
       "        vertical-align: middle;\n",
       "    }\n",
       "\n",
       "    .dataframe tbody tr th {\n",
       "        vertical-align: top;\n",
       "    }\n",
       "\n",
       "    .dataframe thead th {\n",
       "        text-align: right;\n",
       "    }\n",
       "</style>\n",
       "<table border=\"1\" class=\"dataframe\">\n",
       "  <thead>\n",
       "    <tr style=\"text-align: right;\">\n",
       "      <th>debt</th>\n",
       "      <th>purpose_lemma</th>\n",
       "      <th>0</th>\n",
       "      <th>1</th>\n",
       "      <th>общее количество</th>\n",
       "      <th>процент задолжавших</th>\n",
       "    </tr>\n",
       "  </thead>\n",
       "  <tbody>\n",
       "    <tr>\n",
       "      <td>0</td>\n",
       "      <td>автомобиль</td>\n",
       "      <td>3903</td>\n",
       "      <td>403</td>\n",
       "      <td>4306</td>\n",
       "      <td>9.4%</td>\n",
       "    </tr>\n",
       "    <tr>\n",
       "      <td>2</td>\n",
       "      <td>образование</td>\n",
       "      <td>3643</td>\n",
       "      <td>370</td>\n",
       "      <td>4013</td>\n",
       "      <td>9.2%</td>\n",
       "    </tr>\n",
       "    <tr>\n",
       "      <td>3</td>\n",
       "      <td>свадьба</td>\n",
       "      <td>2137</td>\n",
       "      <td>186</td>\n",
       "      <td>2323</td>\n",
       "      <td>8.0%</td>\n",
       "    </tr>\n",
       "    <tr>\n",
       "      <td>1</td>\n",
       "      <td>недвижимость</td>\n",
       "      <td>10029</td>\n",
       "      <td>782</td>\n",
       "      <td>10811</td>\n",
       "      <td>7.2%</td>\n",
       "    </tr>\n",
       "  </tbody>\n",
       "</table>\n",
       "</div>"
      ],
      "text/plain": [
       "debt purpose_lemma      0    1  общее количество процент задолжавших\n",
       "0       автомобиль   3903  403              4306                9.4%\n",
       "2      образование   3643  370              4013                9.2%\n",
       "3          свадьба   2137  186              2323                8.0%\n",
       "1     недвижимость  10029  782             10811                7.2%"
      ]
     },
     "execution_count": 12,
     "metadata": {},
     "output_type": "execute_result"
    }
   ],
   "source": [
    "#можно так:\n",
    "\n",
    "#создадим табличку\n",
    "data = [['недвижимость', 782, 10811], \n",
    "        ['автомобиль', 403, 4306], \n",
    "       ['образование', 370, 4013],\n",
    "       ['свадьба', 186, 2323]]\n",
    "columns = ['цель', 'должники', 'количество заёмщиков']\n",
    "dept_and_purp = pd.DataFrame(data=data, columns=columns)\n",
    "\n",
    "percent_dept = dept_and_purp['должники'] / dept_and_purp['количество заёмщиков']\n",
    "\n",
    "#переведём столбец 'процент задолжавших' в проценты\n",
    "def index_perc_1(percent_dept):\n",
    "    return '{:.1%}'.format(percent_dept)\n",
    "\n",
    "dept_and_purp['процент задолжавших'] = percent_dept.apply(index_perc_1)\n",
    "dept_and_purp.sort_values(by='процент задолжавших', ascending = False)\n",
    "\n",
    "# а можно так\n",
    "# используем метод pivot_table()\n",
    "\n",
    "df_pivot = df.pivot_table(index=['purpose_lemma'], columns= 'debt', values='purpose', aggfunc='count')\n",
    "df_pivot_with_reset_index = df_pivot.reset_index()\n",
    "\n",
    "df_pivot_with_reset_index['общее количество'] = df_pivot_with_reset_index[0] + df_pivot_with_reset_index[1]\n",
    "percent_depted = df_pivot_with_reset_index[1] / df_pivot_with_reset_index['общее количество']\n",
    "\n",
    "def index_perc_2(percent_depted):\n",
    "    return '{:.1%}'.format(percent_depted)\n",
    "\n",
    "df_pivot_with_reset_index['процент задолжавших'] = percent_depted.apply(index_perc_2)\n",
    "df_pivot_with_reset_index.sort_values(by='процент задолжавших', ascending = False)"
   ]
  },
  {
   "cell_type": "markdown",
   "metadata": {},
   "source": [
    "#### Вывод"
   ]
  },
  {
   "cell_type": "markdown",
   "metadata": {},
   "source": [
    "Цель \"недвижимость\" уверенно лидирует по количеству заявок. Однако те, кто берёт кредит с целью \"автомобиль\" - не хотят возвращать деньги вовремя. Да - сейчас машина не решает прблемы, а только создаёт их."
   ]
  },
  {
   "cell_type": "markdown",
   "metadata": {},
   "source": [
    "### Шаг 4. Общий вывод"
   ]
  },
  {
   "cell_type": "markdown",
   "metadata": {},
   "source": [
    "Есть ли зависимость между наличием детей и возвратом кредита в срок?\n",
    "Должников с детьми больше - 9,2% против 7,5%. Разница не велика, чтобы однозначно увидеть зависимость между наличием детей и возвратом кредита в срок. Однако расхождение говорит о том, что родители в определённых ситуациях могут предпочесть потратить деньги на детей, нежели платить за кредит в срок.\n",
    "\n",
    "Есть ли зависимость между семейным положением и возвратом кредита в срок?\n",
    "Те, кто не женат / не замужем - 11% или состоят в гражданском браке - 9% не спешат идти в банк в день погашения очередного платежа по кредиту. Семейные люди - 8% куда чаще обращаются в кредитный отдел, но и ответственных семей больше. Семья дело такое! Сейчас принято считать, что гражданский брак и женат / замужем - это одно и тоже. Тем не менее состоящие в гражданском браке платят по кредиту чаще не в срок. Те, кто имел семейный опыт - \"в разводе\" - 8%, \"вдовцы\" - 7% и \"женат / замужем\" относятся к возврату кредита более ответственно, чем те кому предстоит этот опыт познать - \"не женат / не замужем\" и \"гражданский брак\". \n",
    "\n",
    "Есть ли зависимость между уровнем дохода и возвратом кредита в срок?\n",
    "Обеспеченные люди чаще остальных обращаются за кредитом. Интересное наблюдение, может стоит перенять этот опыт? Однако люди с высоким доходом чаще пропускают день выплаты по кредиту. Процент должников среди заёмщиков со средним достатком ниже. Разница между категориями не велика. Напрашивается вывод, что уровень дохода не сильно влияет на возврат кредита в срок.\n",
    "\n",
    "Как разные цели кредита влияют на его возврат в срок?\n",
    "Те, у кого нет автомобиля - мечтают его купить, а те, у кого автомобиль есть - мечтают его продать. Машина в России - это куча проблем, а не удовольствие от владения. Видимо поэтому те, кто берут кредит на автомобиль - не спешат его возвращать. С образованием похожая ситуация. Интересно, что кредиты на недвижимость берут намного чаще, а возвращают в срок регулярнее. Вероятно ответственность перед банком выше."
   ]
  },
  {
   "cell_type": "code",
   "execution_count": null,
   "metadata": {},
   "outputs": [],
   "source": []
  }
 ],
 "metadata": {
  "kernelspec": {
   "display_name": "Python 3",
   "language": "python",
   "name": "python3"
  },
  "language_info": {
   "codemirror_mode": {
    "name": "ipython",
    "version": 3
   },
   "file_extension": ".py",
   "mimetype": "text/x-python",
   "name": "python",
   "nbconvert_exporter": "python",
   "pygments_lexer": "ipython3",
   "version": "3.7.6"
  }
 },
 "nbformat": 4,
 "nbformat_minor": 2
}
