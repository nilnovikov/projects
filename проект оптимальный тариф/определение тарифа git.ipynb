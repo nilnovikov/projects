{
 "cells": [
  {
   "cell_type": "markdown",
   "metadata": {},
   "source": [
    "# Проект: Определение перспективного тарифа для телеком компании"
   ]
  },
  {
   "cell_type": "markdown",
   "metadata": {},
   "source": [
    "## Описание проекта\n",
    "\n",
    "В проекте имеем пять таблиц с данными за 2018г.: \n",
    "- количество и продолжиьельность телефонных звонков, \n",
    "- количество смс, \n",
    "- количество интернет трафика, \n",
    "- данные о пользователях сотовой сети\n",
    "- данные о трифах Smart и Ultra. \n",
    "\n",
    "Сотовый оператор предлагает клиентам два тарифных плана: «Смарт» и «Ультра». \n",
    "Коммерческому департаменту нужно скорректировать рекламный бюджет, и нужно понять, какой тариф приносит больше денег.\n",
    "\n",
    "Проанализируем тарифы и поведение клиентов и сделаем вывод — какой тариф лучше.\n",
    "\n",
    "###  Исследование разделим на несколько частей:\n",
    "\n",
    "1. [Изученеие файлов с данными, получение общей информации, загрузка библиотек](#stepone)\n",
    "\n",
    "2. [Предобработка данных](#steptwo)\n",
    "\n",
    "3. [Анализ данных](#stepthree)\n",
    "\n",
    "4. [Проверка гипотез](#stepfour)\n",
    "\n",
    "5. [Выводы](#stepfive)"
   ]
  },
  {
   "cell_type": "markdown",
   "metadata": {},
   "source": [
    "## Шаг 1. Выгрузка данных и изучение общей информации<a id=\"stepone\"></a>   </div>"
   ]
  },
  {
   "cell_type": "code",
   "execution_count": 1,
   "metadata": {},
   "outputs": [],
   "source": [
    "import pandas as pd\n",
    "import matplotlib.pyplot as plt\n",
    "import numpy as np\n",
    "import seaborn as sns\n",
    "from math import factorial\n",
    "from scipy import stats as st\n",
    "\n",
    "calls_df = pd.read_csv('calls.csv')\n",
    "internet_df = pd.read_csv('internet.csv')\n",
    "messages_df = pd.read_csv('messages.csv')\n",
    "tariffs_df = pd.read_csv('tariffs.csv')\n",
    "polz_df = pd.read_csv(\"users.csv\")\n",
    "# calls_df.head()\n",
    "# internet_df.head()\n",
    "# messages_df.head()\n",
    "# tariffs_df.head()\n",
    "# polz_df.head()"
   ]
  },
  {
   "cell_type": "markdown",
   "metadata": {},
   "source": [
    "#### Вывод\n",
    "\n",
    "Открылись таблички. На первый взгляд всё читается. Столбцов мало, информация доступна. Переформатируем даты и выделим столбец с месяцем. Будет нужен для расчётов."
   ]
  },
  {
   "cell_type": "code",
   "execution_count": 2,
   "metadata": {},
   "outputs": [],
   "source": [
    "# отформатируем даты\n",
    "# список таблиц в которых меняем datetime\n",
    "date_df = [calls_df, internet_df, messages_df, tariffs_df, polz_df]\n",
    " \n",
    "#функция меняет на datetime\n",
    "def datetime_format (df):\n",
    "    for column in df.columns:\n",
    "        if 'date' in column:\n",
    "            df[column] = pd.to_datetime(df[column], format = '%Y-%m-%d')\n",
    "    return df\n",
    "\n",
    "    \n",
    "for dataframe in date_df:\n",
    "    dataframe = datetime_format(dataframe)"
   ]
  },
  {
   "cell_type": "code",
   "execution_count": 3,
   "metadata": {},
   "outputs": [],
   "source": [
    "# добавим столбец с месяцем отдельно\n",
    "\n",
    "date_df = [calls_df, internet_df, messages_df, tariffs_df, polz_df]\n",
    " \n",
    "#функция меняет на datetime\n",
    "def month_column (df):\n",
    "    for column in df.columns:\n",
    "        if 'date' in column:\n",
    "            df['month'] = df[column].dt.month\n",
    "    return df\n",
    "\n",
    "    \n",
    "for dataframe in date_df:\n",
    "    dataframe = month_column(dataframe)"
   ]
  },
  {
   "cell_type": "code",
   "execution_count": 4,
   "metadata": {},
   "outputs": [
    {
     "name": "stdout",
     "output_type": "stream",
     "text": [
      "<class 'pandas.core.frame.DataFrame'>\n",
      "Int64Index: 154680 entries, 2 to 202606\n",
      "Data columns (total 5 columns):\n",
      "id           154680 non-null object\n",
      "call_date    154680 non-null datetime64[ns]\n",
      "duration     154680 non-null float64\n",
      "user_id      154680 non-null int64\n",
      "month        154680 non-null int64\n",
      "dtypes: datetime64[ns](1), float64(1), int64(2), object(1)\n",
      "memory usage: 7.1+ MB\n"
     ]
    },
    {
     "data": {
      "text/html": [
       "<div>\n",
       "<style scoped>\n",
       "    .dataframe tbody tr th:only-of-type {\n",
       "        vertical-align: middle;\n",
       "    }\n",
       "\n",
       "    .dataframe tbody tr th {\n",
       "        vertical-align: top;\n",
       "    }\n",
       "\n",
       "    .dataframe thead th {\n",
       "        text-align: right;\n",
       "    }\n",
       "</style>\n",
       "<table border=\"1\" class=\"dataframe\">\n",
       "  <thead>\n",
       "    <tr style=\"text-align: right;\">\n",
       "      <th></th>\n",
       "      <th>id</th>\n",
       "      <th>call_date</th>\n",
       "      <th>duration</th>\n",
       "      <th>user_id</th>\n",
       "      <th>month</th>\n",
       "    </tr>\n",
       "  </thead>\n",
       "  <tbody>\n",
       "    <tr>\n",
       "      <td>2</td>\n",
       "      <td>1000_2</td>\n",
       "      <td>2018-06-11</td>\n",
       "      <td>3.0</td>\n",
       "      <td>1000</td>\n",
       "      <td>6</td>\n",
       "    </tr>\n",
       "    <tr>\n",
       "      <td>3</td>\n",
       "      <td>1000_3</td>\n",
       "      <td>2018-09-21</td>\n",
       "      <td>14.0</td>\n",
       "      <td>1000</td>\n",
       "      <td>9</td>\n",
       "    </tr>\n",
       "    <tr>\n",
       "      <td>4</td>\n",
       "      <td>1000_4</td>\n",
       "      <td>2018-12-15</td>\n",
       "      <td>6.0</td>\n",
       "      <td>1000</td>\n",
       "      <td>12</td>\n",
       "    </tr>\n",
       "    <tr>\n",
       "      <td>7</td>\n",
       "      <td>1000_7</td>\n",
       "      <td>2018-08-22</td>\n",
       "      <td>19.0</td>\n",
       "      <td>1000</td>\n",
       "      <td>8</td>\n",
       "    </tr>\n",
       "    <tr>\n",
       "      <td>8</td>\n",
       "      <td>1000_8</td>\n",
       "      <td>2018-09-15</td>\n",
       "      <td>19.0</td>\n",
       "      <td>1000</td>\n",
       "      <td>9</td>\n",
       "    </tr>\n",
       "  </tbody>\n",
       "</table>\n",
       "</div>"
      ],
      "text/plain": [
       "       id  call_date  duration  user_id  month\n",
       "2  1000_2 2018-06-11       3.0     1000      6\n",
       "3  1000_3 2018-09-21      14.0     1000      9\n",
       "4  1000_4 2018-12-15       6.0     1000     12\n",
       "7  1000_7 2018-08-22      19.0     1000      8\n",
       "8  1000_8 2018-09-15      19.0     1000      9"
      ]
     },
     "execution_count": 4,
     "metadata": {},
     "output_type": "execute_result"
    }
   ],
   "source": [
    "# округлим в большую сторону, как это делает провайдер\n",
    "calls_df = calls_df.query('duration >= 1').copy()\n",
    "calls_df['duration'] = np.ceil(calls_df.duration)\n",
    "calls_df.info()\n",
    "calls_df.head()"
   ]
  },
  {
   "cell_type": "code",
   "execution_count": 5,
   "metadata": {},
   "outputs": [
    {
     "name": "stdout",
     "output_type": "stream",
     "text": [
      "<class 'pandas.core.frame.DataFrame'>\n",
      "RangeIndex: 149396 entries, 0 to 149395\n",
      "Data columns (total 6 columns):\n",
      "Unnamed: 0      149396 non-null int64\n",
      "id              149396 non-null object\n",
      "mb_used         149396 non-null float64\n",
      "session_date    149396 non-null datetime64[ns]\n",
      "user_id         149396 non-null int64\n",
      "month           149396 non-null int64\n",
      "dtypes: datetime64[ns](1), float64(1), int64(3), object(1)\n",
      "memory usage: 6.8+ MB\n"
     ]
    },
    {
     "data": {
      "text/html": [
       "<div>\n",
       "<style scoped>\n",
       "    .dataframe tbody tr th:only-of-type {\n",
       "        vertical-align: middle;\n",
       "    }\n",
       "\n",
       "    .dataframe tbody tr th {\n",
       "        vertical-align: top;\n",
       "    }\n",
       "\n",
       "    .dataframe thead th {\n",
       "        text-align: right;\n",
       "    }\n",
       "</style>\n",
       "<table border=\"1\" class=\"dataframe\">\n",
       "  <thead>\n",
       "    <tr style=\"text-align: right;\">\n",
       "      <th></th>\n",
       "      <th>Unnamed: 0</th>\n",
       "      <th>id</th>\n",
       "      <th>mb_used</th>\n",
       "      <th>session_date</th>\n",
       "      <th>user_id</th>\n",
       "      <th>month</th>\n",
       "    </tr>\n",
       "  </thead>\n",
       "  <tbody>\n",
       "    <tr>\n",
       "      <td>0</td>\n",
       "      <td>0</td>\n",
       "      <td>1000_0</td>\n",
       "      <td>113.0</td>\n",
       "      <td>2018-11-25</td>\n",
       "      <td>1000</td>\n",
       "      <td>11</td>\n",
       "    </tr>\n",
       "    <tr>\n",
       "      <td>1</td>\n",
       "      <td>1</td>\n",
       "      <td>1000_1</td>\n",
       "      <td>1053.0</td>\n",
       "      <td>2018-09-07</td>\n",
       "      <td>1000</td>\n",
       "      <td>9</td>\n",
       "    </tr>\n",
       "    <tr>\n",
       "      <td>2</td>\n",
       "      <td>2</td>\n",
       "      <td>1000_2</td>\n",
       "      <td>1198.0</td>\n",
       "      <td>2018-06-25</td>\n",
       "      <td>1000</td>\n",
       "      <td>6</td>\n",
       "    </tr>\n",
       "    <tr>\n",
       "      <td>3</td>\n",
       "      <td>3</td>\n",
       "      <td>1000_3</td>\n",
       "      <td>551.0</td>\n",
       "      <td>2018-08-22</td>\n",
       "      <td>1000</td>\n",
       "      <td>8</td>\n",
       "    </tr>\n",
       "    <tr>\n",
       "      <td>4</td>\n",
       "      <td>4</td>\n",
       "      <td>1000_4</td>\n",
       "      <td>303.0</td>\n",
       "      <td>2018-09-24</td>\n",
       "      <td>1000</td>\n",
       "      <td>9</td>\n",
       "    </tr>\n",
       "  </tbody>\n",
       "</table>\n",
       "</div>"
      ],
      "text/plain": [
       "   Unnamed: 0      id  mb_used session_date  user_id  month\n",
       "0           0  1000_0    113.0   2018-11-25     1000     11\n",
       "1           1  1000_1   1053.0   2018-09-07     1000      9\n",
       "2           2  1000_2   1198.0   2018-06-25     1000      6\n",
       "3           3  1000_3    551.0   2018-08-22     1000      8\n",
       "4           4  1000_4    303.0   2018-09-24     1000      9"
      ]
     },
     "execution_count": 5,
     "metadata": {},
     "output_type": "execute_result"
    }
   ],
   "source": [
    "# округлим в большую сторону, как это делает провайдер\n",
    "callsinternet_df = internet_df.query('mb_used > 0').copy()\n",
    "internet_df['mb_used'] = np.ceil(internet_df.mb_used)\n",
    "internet_df.info()\n",
    "internet_df.head()"
   ]
  },
  {
   "cell_type": "code",
   "execution_count": 6,
   "metadata": {},
   "outputs": [
    {
     "name": "stdout",
     "output_type": "stream",
     "text": [
      "<class 'pandas.core.frame.DataFrame'>\n",
      "RangeIndex: 123036 entries, 0 to 123035\n",
      "Data columns (total 4 columns):\n",
      "id              123036 non-null object\n",
      "message_date    123036 non-null datetime64[ns]\n",
      "user_id         123036 non-null int64\n",
      "month           123036 non-null int64\n",
      "dtypes: datetime64[ns](1), int64(2), object(1)\n",
      "memory usage: 3.8+ MB\n"
     ]
    },
    {
     "data": {
      "text/html": [
       "<div>\n",
       "<style scoped>\n",
       "    .dataframe tbody tr th:only-of-type {\n",
       "        vertical-align: middle;\n",
       "    }\n",
       "\n",
       "    .dataframe tbody tr th {\n",
       "        vertical-align: top;\n",
       "    }\n",
       "\n",
       "    .dataframe thead th {\n",
       "        text-align: right;\n",
       "    }\n",
       "</style>\n",
       "<table border=\"1\" class=\"dataframe\">\n",
       "  <thead>\n",
       "    <tr style=\"text-align: right;\">\n",
       "      <th></th>\n",
       "      <th>id</th>\n",
       "      <th>message_date</th>\n",
       "      <th>user_id</th>\n",
       "      <th>month</th>\n",
       "    </tr>\n",
       "  </thead>\n",
       "  <tbody>\n",
       "    <tr>\n",
       "      <td>0</td>\n",
       "      <td>1000_0</td>\n",
       "      <td>2018-06-27</td>\n",
       "      <td>1000</td>\n",
       "      <td>6</td>\n",
       "    </tr>\n",
       "    <tr>\n",
       "      <td>1</td>\n",
       "      <td>1000_1</td>\n",
       "      <td>2018-10-08</td>\n",
       "      <td>1000</td>\n",
       "      <td>10</td>\n",
       "    </tr>\n",
       "    <tr>\n",
       "      <td>2</td>\n",
       "      <td>1000_2</td>\n",
       "      <td>2018-08-04</td>\n",
       "      <td>1000</td>\n",
       "      <td>8</td>\n",
       "    </tr>\n",
       "    <tr>\n",
       "      <td>3</td>\n",
       "      <td>1000_3</td>\n",
       "      <td>2018-06-16</td>\n",
       "      <td>1000</td>\n",
       "      <td>6</td>\n",
       "    </tr>\n",
       "    <tr>\n",
       "      <td>4</td>\n",
       "      <td>1000_4</td>\n",
       "      <td>2018-12-05</td>\n",
       "      <td>1000</td>\n",
       "      <td>12</td>\n",
       "    </tr>\n",
       "  </tbody>\n",
       "</table>\n",
       "</div>"
      ],
      "text/plain": [
       "       id message_date  user_id  month\n",
       "0  1000_0   2018-06-27     1000      6\n",
       "1  1000_1   2018-10-08     1000     10\n",
       "2  1000_2   2018-08-04     1000      8\n",
       "3  1000_3   2018-06-16     1000      6\n",
       "4  1000_4   2018-12-05     1000     12"
      ]
     },
     "execution_count": 6,
     "metadata": {},
     "output_type": "execute_result"
    }
   ],
   "source": [
    "messages_df.info()\n",
    "messages_df.head()"
   ]
  },
  {
   "cell_type": "code",
   "execution_count": 7,
   "metadata": {},
   "outputs": [
    {
     "name": "stdout",
     "output_type": "stream",
     "text": [
      "<class 'pandas.core.frame.DataFrame'>\n",
      "RangeIndex: 2 entries, 0 to 1\n",
      "Data columns (total 8 columns):\n",
      "messages_included        2 non-null int64\n",
      "mb_per_month_included    2 non-null int64\n",
      "minutes_included         2 non-null int64\n",
      "rub_monthly_fee          2 non-null int64\n",
      "rub_per_gb               2 non-null int64\n",
      "rub_per_message          2 non-null int64\n",
      "rub_per_minute           2 non-null int64\n",
      "tariff_name              2 non-null object\n",
      "dtypes: int64(7), object(1)\n",
      "memory usage: 256.0+ bytes\n"
     ]
    },
    {
     "data": {
      "text/html": [
       "<div>\n",
       "<style scoped>\n",
       "    .dataframe tbody tr th:only-of-type {\n",
       "        vertical-align: middle;\n",
       "    }\n",
       "\n",
       "    .dataframe tbody tr th {\n",
       "        vertical-align: top;\n",
       "    }\n",
       "\n",
       "    .dataframe thead th {\n",
       "        text-align: right;\n",
       "    }\n",
       "</style>\n",
       "<table border=\"1\" class=\"dataframe\">\n",
       "  <thead>\n",
       "    <tr style=\"text-align: right;\">\n",
       "      <th></th>\n",
       "      <th>messages_included</th>\n",
       "      <th>mb_per_month_included</th>\n",
       "      <th>minutes_included</th>\n",
       "      <th>rub_monthly_fee</th>\n",
       "      <th>rub_per_gb</th>\n",
       "      <th>rub_per_message</th>\n",
       "      <th>rub_per_minute</th>\n",
       "      <th>tariff_name</th>\n",
       "    </tr>\n",
       "  </thead>\n",
       "  <tbody>\n",
       "    <tr>\n",
       "      <td>0</td>\n",
       "      <td>50</td>\n",
       "      <td>15360</td>\n",
       "      <td>500</td>\n",
       "      <td>550</td>\n",
       "      <td>200</td>\n",
       "      <td>3</td>\n",
       "      <td>3</td>\n",
       "      <td>smart</td>\n",
       "    </tr>\n",
       "    <tr>\n",
       "      <td>1</td>\n",
       "      <td>1000</td>\n",
       "      <td>30720</td>\n",
       "      <td>3000</td>\n",
       "      <td>1950</td>\n",
       "      <td>150</td>\n",
       "      <td>1</td>\n",
       "      <td>1</td>\n",
       "      <td>ultra</td>\n",
       "    </tr>\n",
       "  </tbody>\n",
       "</table>\n",
       "</div>"
      ],
      "text/plain": [
       "   messages_included  mb_per_month_included  minutes_included  \\\n",
       "0                 50                  15360               500   \n",
       "1               1000                  30720              3000   \n",
       "\n",
       "   rub_monthly_fee  rub_per_gb  rub_per_message  rub_per_minute tariff_name  \n",
       "0              550         200                3               3       smart  \n",
       "1             1950         150                1               1       ultra  "
      ]
     },
     "execution_count": 7,
     "metadata": {},
     "output_type": "execute_result"
    }
   ],
   "source": [
    "tariffs_df.info()\n",
    "tariffs_df.head()"
   ]
  },
  {
   "cell_type": "code",
   "execution_count": 8,
   "metadata": {},
   "outputs": [
    {
     "name": "stdout",
     "output_type": "stream",
     "text": [
      "<class 'pandas.core.frame.DataFrame'>\n",
      "RangeIndex: 500 entries, 0 to 499\n",
      "Data columns (total 9 columns):\n",
      "user_id       500 non-null int64\n",
      "age           500 non-null int64\n",
      "churn_date    38 non-null datetime64[ns]\n",
      "city          500 non-null object\n",
      "first_name    500 non-null object\n",
      "last_name     500 non-null object\n",
      "reg_date      500 non-null datetime64[ns]\n",
      "tariff        500 non-null object\n",
      "month         500 non-null int64\n",
      "dtypes: datetime64[ns](2), int64(3), object(4)\n",
      "memory usage: 35.3+ KB\n"
     ]
    },
    {
     "data": {
      "text/html": [
       "<div>\n",
       "<style scoped>\n",
       "    .dataframe tbody tr th:only-of-type {\n",
       "        vertical-align: middle;\n",
       "    }\n",
       "\n",
       "    .dataframe tbody tr th {\n",
       "        vertical-align: top;\n",
       "    }\n",
       "\n",
       "    .dataframe thead th {\n",
       "        text-align: right;\n",
       "    }\n",
       "</style>\n",
       "<table border=\"1\" class=\"dataframe\">\n",
       "  <thead>\n",
       "    <tr style=\"text-align: right;\">\n",
       "      <th></th>\n",
       "      <th>user_id</th>\n",
       "      <th>age</th>\n",
       "      <th>churn_date</th>\n",
       "      <th>city</th>\n",
       "      <th>first_name</th>\n",
       "      <th>last_name</th>\n",
       "      <th>reg_date</th>\n",
       "      <th>tariff</th>\n",
       "      <th>month</th>\n",
       "    </tr>\n",
       "  </thead>\n",
       "  <tbody>\n",
       "    <tr>\n",
       "      <td>0</td>\n",
       "      <td>1000</td>\n",
       "      <td>52</td>\n",
       "      <td>NaT</td>\n",
       "      <td>Краснодар</td>\n",
       "      <td>Рафаил</td>\n",
       "      <td>Верещагин</td>\n",
       "      <td>2018-05-25</td>\n",
       "      <td>ultra</td>\n",
       "      <td>5</td>\n",
       "    </tr>\n",
       "    <tr>\n",
       "      <td>1</td>\n",
       "      <td>1001</td>\n",
       "      <td>41</td>\n",
       "      <td>NaT</td>\n",
       "      <td>Москва</td>\n",
       "      <td>Иван</td>\n",
       "      <td>Ежов</td>\n",
       "      <td>2018-11-01</td>\n",
       "      <td>smart</td>\n",
       "      <td>11</td>\n",
       "    </tr>\n",
       "    <tr>\n",
       "      <td>2</td>\n",
       "      <td>1002</td>\n",
       "      <td>59</td>\n",
       "      <td>NaT</td>\n",
       "      <td>Стерлитамак</td>\n",
       "      <td>Евгений</td>\n",
       "      <td>Абрамович</td>\n",
       "      <td>2018-06-17</td>\n",
       "      <td>smart</td>\n",
       "      <td>6</td>\n",
       "    </tr>\n",
       "    <tr>\n",
       "      <td>3</td>\n",
       "      <td>1003</td>\n",
       "      <td>23</td>\n",
       "      <td>NaT</td>\n",
       "      <td>Москва</td>\n",
       "      <td>Белла</td>\n",
       "      <td>Белякова</td>\n",
       "      <td>2018-08-17</td>\n",
       "      <td>ultra</td>\n",
       "      <td>8</td>\n",
       "    </tr>\n",
       "    <tr>\n",
       "      <td>4</td>\n",
       "      <td>1004</td>\n",
       "      <td>68</td>\n",
       "      <td>NaT</td>\n",
       "      <td>Новокузнецк</td>\n",
       "      <td>Татьяна</td>\n",
       "      <td>Авдеенко</td>\n",
       "      <td>2018-05-14</td>\n",
       "      <td>ultra</td>\n",
       "      <td>5</td>\n",
       "    </tr>\n",
       "  </tbody>\n",
       "</table>\n",
       "</div>"
      ],
      "text/plain": [
       "   user_id  age churn_date         city first_name  last_name   reg_date  \\\n",
       "0     1000   52        NaT    Краснодар     Рафаил  Верещагин 2018-05-25   \n",
       "1     1001   41        NaT       Москва       Иван       Ежов 2018-11-01   \n",
       "2     1002   59        NaT  Стерлитамак    Евгений  Абрамович 2018-06-17   \n",
       "3     1003   23        NaT       Москва      Белла   Белякова 2018-08-17   \n",
       "4     1004   68        NaT  Новокузнецк    Татьяна   Авдеенко 2018-05-14   \n",
       "\n",
       "  tariff  month  \n",
       "0  ultra      5  \n",
       "1  smart     11  \n",
       "2  smart      6  \n",
       "3  ultra      8  \n",
       "4  ultra      5  "
      ]
     },
     "execution_count": 8,
     "metadata": {},
     "output_type": "execute_result"
    }
   ],
   "source": [
    "polz_df.info()\n",
    "polz_df.head()"
   ]
  },
  {
   "cell_type": "markdown",
   "metadata": {},
   "source": [
    "#### Вывод\n",
    "\n",
    "Добавил столбец с месяцем во все таблички, проверил данные. Пропусков мало, в ключевых моментах пропуско нет.\n",
    "Посмотрим выбросы.\n",
    "Таблицы нужно объеденить."
   ]
  },
  {
   "cell_type": "markdown",
   "metadata": {},
   "source": [
    "## Шаг 2. Предобработка данных<a id=\"steptwo\"></a>   </div>"
   ]
  },
  {
   "cell_type": "code",
   "execution_count": 9,
   "metadata": {},
   "outputs": [
    {
     "data": {
      "image/png": "[encoded data removed]",
      "text/plain": [
       "<Figure size 432x288 with 1 Axes>"
      ]
     },
     "metadata": {
      "needs_background": "light"
     },
     "output_type": "display_data"
    }
   ],
   "source": [
    "# Приведём данные к нужным типам;\n",
    "\n",
    "calls_df.query('duration > 0and duration < 35')['duration'].hist(bins=50)\n",
    "plt.title('Продолжительность звонков')\n",
    "plt.xlabel('кол-во минут')\n",
    "plt.ylabel('кол-во пользователей')\n",
    "plt.show()"
   ]
  },
  {
   "cell_type": "code",
   "execution_count": 10,
   "metadata": {},
   "outputs": [
    {
     "data": {
      "image/png": "[encoded data removed]",
      "text/plain": [
       "<Figure size 432x288 with 1 Axes>"
      ]
     },
     "metadata": {
      "needs_background": "light"
     },
     "output_type": "display_data"
    }
   ],
   "source": [
    "internet_df.query('mb_used > 0')['mb_used'].hist(bins=50)\n",
    "plt.title('Израсходованный трафик')\n",
    "plt.xlabel('трафик, mb')\n",
    "plt.ylabel('кол-во пользователей')\n",
    "plt.show()"
   ]
  },
  {
   "cell_type": "code",
   "execution_count": 11,
   "metadata": {},
   "outputs": [
    {
     "data": {
      "image/png": "[encoded data removed]",
      "text/plain": [
       "<Figure size 432x288 with 1 Axes>"
      ]
     },
     "metadata": {
      "needs_background": "light"
     },
     "output_type": "display_data"
    }
   ],
   "source": [
    "messages_df['user_id'].hist(bins=50)\n",
    "plt.title('Отправленные смс')\n",
    "plt.xlabel('кол-во смс')\n",
    "plt.ylabel('кол-во пользователей')\n",
    "plt.show()"
   ]
  },
  {
   "cell_type": "markdown",
   "metadata": {},
   "source": [
    "#### Вывод\n",
    "\n",
    "Много нулевых значений. Пользователи не отвечают на звонок, не пользуются интернетом, не отправляют смс. Такие ситуации бывают. На гистограмме смс видим как часто пользователи отправляют сообщения. Гистограммы звонков и трафика имеют вид распределения Пуассона"
   ]
  },
  {
   "cell_type": "markdown",
   "metadata": {},
   "source": [
    "## Посчитайте для каждого пользователя:"
   ]
  },
  {
   "cell_type": "code",
   "execution_count": 12,
   "metadata": {},
   "outputs": [
    {
     "data": {
      "text/html": [
       "<div>\n",
       "<style scoped>\n",
       "    .dataframe tbody tr th:only-of-type {\n",
       "        vertical-align: middle;\n",
       "    }\n",
       "\n",
       "    .dataframe tbody tr th {\n",
       "        vertical-align: top;\n",
       "    }\n",
       "\n",
       "    .dataframe thead th {\n",
       "        text-align: right;\n",
       "    }\n",
       "</style>\n",
       "<table border=\"1\" class=\"dataframe\">\n",
       "  <thead>\n",
       "    <tr style=\"text-align: right;\">\n",
       "      <th></th>\n",
       "      <th>user_id</th>\n",
       "      <th>month</th>\n",
       "      <th>count_calls</th>\n",
       "      <th>sum_calls_duration</th>\n",
       "    </tr>\n",
       "  </thead>\n",
       "  <tbody>\n",
       "    <tr>\n",
       "      <td>0</td>\n",
       "      <td>1000</td>\n",
       "      <td>5</td>\n",
       "      <td>16</td>\n",
       "      <td>158.0</td>\n",
       "    </tr>\n",
       "    <tr>\n",
       "      <td>1</td>\n",
       "      <td>1000</td>\n",
       "      <td>6</td>\n",
       "      <td>27</td>\n",
       "      <td>171.0</td>\n",
       "    </tr>\n",
       "    <tr>\n",
       "      <td>2</td>\n",
       "      <td>1000</td>\n",
       "      <td>7</td>\n",
       "      <td>39</td>\n",
       "      <td>338.0</td>\n",
       "    </tr>\n",
       "    <tr>\n",
       "      <td>3</td>\n",
       "      <td>1000</td>\n",
       "      <td>8</td>\n",
       "      <td>41</td>\n",
       "      <td>407.0</td>\n",
       "    </tr>\n",
       "    <tr>\n",
       "      <td>4</td>\n",
       "      <td>1000</td>\n",
       "      <td>9</td>\n",
       "      <td>43</td>\n",
       "      <td>463.0</td>\n",
       "    </tr>\n",
       "  </tbody>\n",
       "</table>\n",
       "</div>"
      ],
      "text/plain": [
       "   user_id  month  count_calls  sum_calls_duration\n",
       "0     1000      5           16               158.0\n",
       "1     1000      6           27               171.0\n",
       "2     1000      7           39               338.0\n",
       "3     1000      8           41               407.0\n",
       "4     1000      9           43               463.0"
      ]
     },
     "execution_count": 12,
     "metadata": {},
     "output_type": "execute_result"
    }
   ],
   "source": [
    "# количество сделанных звонков, кол-во израсходованных минут разговора по месяцам\n",
    "calls_pivot = calls_df.query('duration > 0').pivot_table(\n",
    "    index=['user_id', 'month'], values='duration', aggfunc=['count', 'sum']).reset_index()\n",
    "calls_pivot.columns = ['user_id', 'month', 'count_calls', 'sum_calls_duration']\n",
    "calls_pivot.head()"
   ]
  },
  {
   "cell_type": "code",
   "execution_count": 13,
   "metadata": {},
   "outputs": [
    {
     "data": {
      "text/html": [
       "<div>\n",
       "<style scoped>\n",
       "    .dataframe tbody tr th:only-of-type {\n",
       "        vertical-align: middle;\n",
       "    }\n",
       "\n",
       "    .dataframe tbody tr th {\n",
       "        vertical-align: top;\n",
       "    }\n",
       "\n",
       "    .dataframe thead th {\n",
       "        text-align: right;\n",
       "    }\n",
       "</style>\n",
       "<table border=\"1\" class=\"dataframe\">\n",
       "  <thead>\n",
       "    <tr style=\"text-align: right;\">\n",
       "      <th></th>\n",
       "      <th>user_id</th>\n",
       "      <th>month</th>\n",
       "      <th>count_sessions</th>\n",
       "      <th>sum_mb_used</th>\n",
       "    </tr>\n",
       "  </thead>\n",
       "  <tbody>\n",
       "    <tr>\n",
       "      <td>0</td>\n",
       "      <td>1000</td>\n",
       "      <td>5</td>\n",
       "      <td>4</td>\n",
       "      <td>2256.0</td>\n",
       "    </tr>\n",
       "    <tr>\n",
       "      <td>1</td>\n",
       "      <td>1000</td>\n",
       "      <td>6</td>\n",
       "      <td>44</td>\n",
       "      <td>23257.0</td>\n",
       "    </tr>\n",
       "    <tr>\n",
       "      <td>2</td>\n",
       "      <td>1000</td>\n",
       "      <td>7</td>\n",
       "      <td>28</td>\n",
       "      <td>14016.0</td>\n",
       "    </tr>\n",
       "    <tr>\n",
       "      <td>3</td>\n",
       "      <td>1000</td>\n",
       "      <td>8</td>\n",
       "      <td>27</td>\n",
       "      <td>14070.0</td>\n",
       "    </tr>\n",
       "    <tr>\n",
       "      <td>4</td>\n",
       "      <td>1000</td>\n",
       "      <td>9</td>\n",
       "      <td>25</td>\n",
       "      <td>14581.0</td>\n",
       "    </tr>\n",
       "  </tbody>\n",
       "</table>\n",
       "</div>"
      ],
      "text/plain": [
       "   user_id  month  count_sessions  sum_mb_used\n",
       "0     1000      5               4       2256.0\n",
       "1     1000      6              44      23257.0\n",
       "2     1000      7              28      14016.0\n",
       "3     1000      8              27      14070.0\n",
       "4     1000      9              25      14581.0"
      ]
     },
     "execution_count": 13,
     "metadata": {},
     "output_type": "execute_result"
    }
   ],
   "source": [
    "# объем израсходованного интернет-трафика по месяцам;\n",
    "internet_pivot = internet_df.query('mb_used > 0').pivot_table(\n",
    "    index=['user_id', 'month'], values='mb_used', aggfunc=['count', 'sum']).reset_index()\n",
    "internet_pivot.columns = ['user_id', 'month', 'count_sessions', 'sum_mb_used']\n",
    "internet_pivot.head()"
   ]
  },
  {
   "cell_type": "code",
   "execution_count": 14,
   "metadata": {
    "scrolled": true
   },
   "outputs": [
    {
     "data": {
      "text/html": [
       "<div>\n",
       "<style scoped>\n",
       "    .dataframe tbody tr th:only-of-type {\n",
       "        vertical-align: middle;\n",
       "    }\n",
       "\n",
       "    .dataframe tbody tr th {\n",
       "        vertical-align: top;\n",
       "    }\n",
       "\n",
       "    .dataframe thead th {\n",
       "        text-align: right;\n",
       "    }\n",
       "</style>\n",
       "<table border=\"1\" class=\"dataframe\">\n",
       "  <thead>\n",
       "    <tr style=\"text-align: right;\">\n",
       "      <th></th>\n",
       "      <th>user_id</th>\n",
       "      <th>month</th>\n",
       "      <th>count_mess</th>\n",
       "    </tr>\n",
       "  </thead>\n",
       "  <tbody>\n",
       "    <tr>\n",
       "      <td>0</td>\n",
       "      <td>1000</td>\n",
       "      <td>5</td>\n",
       "      <td>22</td>\n",
       "    </tr>\n",
       "    <tr>\n",
       "      <td>1</td>\n",
       "      <td>1000</td>\n",
       "      <td>6</td>\n",
       "      <td>60</td>\n",
       "    </tr>\n",
       "    <tr>\n",
       "      <td>2</td>\n",
       "      <td>1000</td>\n",
       "      <td>7</td>\n",
       "      <td>75</td>\n",
       "    </tr>\n",
       "    <tr>\n",
       "      <td>3</td>\n",
       "      <td>1000</td>\n",
       "      <td>8</td>\n",
       "      <td>81</td>\n",
       "    </tr>\n",
       "    <tr>\n",
       "      <td>4</td>\n",
       "      <td>1000</td>\n",
       "      <td>9</td>\n",
       "      <td>57</td>\n",
       "    </tr>\n",
       "  </tbody>\n",
       "</table>\n",
       "</div>"
      ],
      "text/plain": [
       "   user_id  month  count_mess\n",
       "0     1000      5          22\n",
       "1     1000      6          60\n",
       "2     1000      7          75\n",
       "3     1000      8          81\n",
       "4     1000      9          57"
      ]
     },
     "execution_count": 14,
     "metadata": {},
     "output_type": "execute_result"
    }
   ],
   "source": [
    "# количество отправленных сообщений по месяцам;\n",
    "messages_pivot = messages_df.pivot_table(index=['user_id', 'month'], values='id', aggfunc=['count']).reset_index()\n",
    "messages_pivot.columns = ['user_id', 'month', 'count_mess']\n",
    "messages_pivot.head()"
   ]
  },
  {
   "cell_type": "code",
   "execution_count": 15,
   "metadata": {},
   "outputs": [
    {
     "name": "stdout",
     "output_type": "stream",
     "text": [
      "<class 'pandas.core.frame.DataFrame'>\n",
      "Int64Index: 3214 entries, 0 to 3213\n",
      "Data columns (total 10 columns):\n",
      "user_id               3214 non-null int64\n",
      "month                 3214 non-null int64\n",
      "count_calls           3214 non-null float64\n",
      "sum_calls_duration    3214 non-null float64\n",
      "count_mess            3214 non-null float64\n",
      "count_sessions        3214 non-null float64\n",
      "sum_mb_used           3214 non-null float64\n",
      "tariff                3214 non-null object\n",
      "city                  3214 non-null object\n",
      "sum_gb_used           3214 non-null float64\n",
      "dtypes: float64(6), int64(2), object(2)\n",
      "memory usage: 276.2+ KB\n"
     ]
    },
    {
     "data": {
      "text/html": [
       "<div>\n",
       "<style scoped>\n",
       "    .dataframe tbody tr th:only-of-type {\n",
       "        vertical-align: middle;\n",
       "    }\n",
       "\n",
       "    .dataframe tbody tr th {\n",
       "        vertical-align: top;\n",
       "    }\n",
       "\n",
       "    .dataframe thead th {\n",
       "        text-align: right;\n",
       "    }\n",
       "</style>\n",
       "<table border=\"1\" class=\"dataframe\">\n",
       "  <thead>\n",
       "    <tr style=\"text-align: right;\">\n",
       "      <th></th>\n",
       "      <th>user_id</th>\n",
       "      <th>month</th>\n",
       "      <th>count_calls</th>\n",
       "      <th>sum_calls_duration</th>\n",
       "      <th>count_mess</th>\n",
       "      <th>count_sessions</th>\n",
       "      <th>sum_mb_used</th>\n",
       "      <th>tariff</th>\n",
       "      <th>city</th>\n",
       "      <th>sum_gb_used</th>\n",
       "    </tr>\n",
       "  </thead>\n",
       "  <tbody>\n",
       "    <tr>\n",
       "      <td>0</td>\n",
       "      <td>1000</td>\n",
       "      <td>5</td>\n",
       "      <td>16.0</td>\n",
       "      <td>158.0</td>\n",
       "      <td>22.0</td>\n",
       "      <td>4.0</td>\n",
       "      <td>2256.0</td>\n",
       "      <td>ultra</td>\n",
       "      <td>Краснодар</td>\n",
       "      <td>3.0</td>\n",
       "    </tr>\n",
       "    <tr>\n",
       "      <td>1</td>\n",
       "      <td>1000</td>\n",
       "      <td>6</td>\n",
       "      <td>27.0</td>\n",
       "      <td>171.0</td>\n",
       "      <td>60.0</td>\n",
       "      <td>44.0</td>\n",
       "      <td>23257.0</td>\n",
       "      <td>ultra</td>\n",
       "      <td>Краснодар</td>\n",
       "      <td>23.0</td>\n",
       "    </tr>\n",
       "    <tr>\n",
       "      <td>2</td>\n",
       "      <td>1000</td>\n",
       "      <td>7</td>\n",
       "      <td>39.0</td>\n",
       "      <td>338.0</td>\n",
       "      <td>75.0</td>\n",
       "      <td>28.0</td>\n",
       "      <td>14016.0</td>\n",
       "      <td>ultra</td>\n",
       "      <td>Краснодар</td>\n",
       "      <td>14.0</td>\n",
       "    </tr>\n",
       "    <tr>\n",
       "      <td>3</td>\n",
       "      <td>1000</td>\n",
       "      <td>8</td>\n",
       "      <td>41.0</td>\n",
       "      <td>407.0</td>\n",
       "      <td>81.0</td>\n",
       "      <td>27.0</td>\n",
       "      <td>14070.0</td>\n",
       "      <td>ultra</td>\n",
       "      <td>Краснодар</td>\n",
       "      <td>14.0</td>\n",
       "    </tr>\n",
       "    <tr>\n",
       "      <td>4</td>\n",
       "      <td>1000</td>\n",
       "      <td>9</td>\n",
       "      <td>43.0</td>\n",
       "      <td>463.0</td>\n",
       "      <td>57.0</td>\n",
       "      <td>25.0</td>\n",
       "      <td>14581.0</td>\n",
       "      <td>ultra</td>\n",
       "      <td>Краснодар</td>\n",
       "      <td>15.0</td>\n",
       "    </tr>\n",
       "  </tbody>\n",
       "</table>\n",
       "</div>"
      ],
      "text/plain": [
       "   user_id  month  count_calls  sum_calls_duration  count_mess  \\\n",
       "0     1000      5         16.0               158.0        22.0   \n",
       "1     1000      6         27.0               171.0        60.0   \n",
       "2     1000      7         39.0               338.0        75.0   \n",
       "3     1000      8         41.0               407.0        81.0   \n",
       "4     1000      9         43.0               463.0        57.0   \n",
       "\n",
       "   count_sessions  sum_mb_used tariff       city  sum_gb_used  \n",
       "0             4.0       2256.0  ultra  Краснодар          3.0  \n",
       "1            44.0      23257.0  ultra  Краснодар         23.0  \n",
       "2            28.0      14016.0  ultra  Краснодар         14.0  \n",
       "3            27.0      14070.0  ultra  Краснодар         14.0  \n",
       "4            25.0      14581.0  ultra  Краснодар         15.0  "
      ]
     },
     "execution_count": 15,
     "metadata": {},
     "output_type": "execute_result"
    }
   ],
   "source": [
    "# сведём в одну таблицу\n",
    "calls_mess_merged_df = calls_pivot.merge(messages_pivot , on=['user_id', 'month'], how='outer')\n",
    "calls_mess_merged_df.head()\n",
    "\n",
    "calls_mess_int_merged_df = calls_mess_merged_df.merge(internet_pivot , on=['user_id', 'month'], how='outer')\n",
    "calls_mess_int_merged_df.head()\n",
    "\n",
    "#total_df = calls_mess_int_merged_df.merge(polz_df, on=['user_id'], how='left')\n",
    "total_df = calls_mess_int_merged_df.merge(polz_df[['user_id', 'tariff', 'city']], how = 'left', on = 'user_id') \n",
    "\n",
    "total_df['sum_gb_used'] = (total_df['sum_mb_used'] / 1024)\n",
    "total_df['sum_gb_used'] = np.ceil(total_df.sum_gb_used)\n",
    "\n",
    "total_df = total_df.fillna(0)\n",
    "total_df.info()\n",
    "total_df.head()"
   ]
  },
  {
   "cell_type": "markdown",
   "metadata": {},
   "source": [
    "#### Вывод\n",
    "\n",
    "Свел все таблицы в одну total_df. Ввел столбец с гигабайтами, округлил в большую сторону. Переименовал столбцы. Наконец получили сводную таблицу с которой можно работать. Видим активности пользователей по месяцам, город и тариф. "
   ]
  },
  {
   "cell_type": "code",
   "execution_count": 16,
   "metadata": {},
   "outputs": [
    {
     "data": {
      "text/html": [
       "<div>\n",
       "<style scoped>\n",
       "    .dataframe tbody tr th:only-of-type {\n",
       "        vertical-align: middle;\n",
       "    }\n",
       "\n",
       "    .dataframe tbody tr th {\n",
       "        vertical-align: top;\n",
       "    }\n",
       "\n",
       "    .dataframe thead th {\n",
       "        text-align: right;\n",
       "    }\n",
       "</style>\n",
       "<table border=\"1\" class=\"dataframe\">\n",
       "  <thead>\n",
       "    <tr style=\"text-align: right;\">\n",
       "      <th></th>\n",
       "      <th>messages_included</th>\n",
       "      <th>mb_per_month_included</th>\n",
       "      <th>minutes_included</th>\n",
       "      <th>rub_monthly_fee</th>\n",
       "      <th>rub_per_gb</th>\n",
       "      <th>rub_per_message</th>\n",
       "      <th>rub_per_minute</th>\n",
       "      <th>tariff_name</th>\n",
       "    </tr>\n",
       "  </thead>\n",
       "  <tbody>\n",
       "    <tr>\n",
       "      <td>0</td>\n",
       "      <td>50</td>\n",
       "      <td>15360</td>\n",
       "      <td>500</td>\n",
       "      <td>550</td>\n",
       "      <td>200</td>\n",
       "      <td>3</td>\n",
       "      <td>3</td>\n",
       "      <td>smart</td>\n",
       "    </tr>\n",
       "    <tr>\n",
       "      <td>1</td>\n",
       "      <td>1000</td>\n",
       "      <td>30720</td>\n",
       "      <td>3000</td>\n",
       "      <td>1950</td>\n",
       "      <td>150</td>\n",
       "      <td>1</td>\n",
       "      <td>1</td>\n",
       "      <td>ultra</td>\n",
       "    </tr>\n",
       "  </tbody>\n",
       "</table>\n",
       "</div>"
      ],
      "text/plain": [
       "   messages_included  mb_per_month_included  minutes_included  \\\n",
       "0                 50                  15360               500   \n",
       "1               1000                  30720              3000   \n",
       "\n",
       "   rub_monthly_fee  rub_per_gb  rub_per_message  rub_per_minute tariff_name  \n",
       "0              550         200                3               3       smart  \n",
       "1             1950         150                1               1       ultra  "
      ]
     },
     "execution_count": 16,
     "metadata": {},
     "output_type": "execute_result"
    }
   ],
   "source": [
    "tariffs_df.head()"
   ]
  },
  {
   "cell_type": "markdown",
   "metadata": {},
   "source": [
    "#### Посчитаем для каждого пользователя помесячную выручку с каждого пользователя\n",
    "\n",
    "- вычтем бесплатный лимит из суммарного количества звонков, сообщений и интернет-трафика;\n",
    "- остаток умножим на значение из тарифного плана;\n",
    "- прибавим абонентскую плату, соответствующую тарифному плану"
   ]
  },
  {
   "cell_type": "code",
   "execution_count": 17,
   "metadata": {},
   "outputs": [
    {
     "name": "stdout",
     "output_type": "stream",
     "text": [
      "Считаем для тарифа smart\n"
     ]
    }
   ],
   "source": [
    "print('Считаем для тарифа smart')\n",
    "total_df_grouped = total_df.groupby(\n",
    "    ['tariff', 'month', 'user_id', 'city'])['sum_calls_duration', 'count_mess', 'sum_gb_used'].sum()\n",
    "total_df_grouped.head()\n",
    "smart_total_df_grouped = total_df_grouped.query('tariff == \"smart\"').reset_index().copy()\n",
    "smart_total_df_grouped['min_incl'] = 500\n",
    "smart_total_df_grouped['mess_incl'] = 50\n",
    "smart_total_df_grouped['gb_per_month_incl'] = 15360/1024\n",
    "smart_total_df_grouped['min_used_rub'] = (smart_total_df_grouped['sum_calls_duration']-smart_total_df_grouped['min_incl'])*3+550\n",
    "smart_total_df_grouped['mess_used_rub'] = (smart_total_df_grouped['count_mess']-smart_total_df_grouped['mess_incl'])*3+550\n",
    "smart_total_df_grouped['gb_used_rub'] = (\n",
    "    smart_total_df_grouped['sum_gb_used']-smart_total_df_grouped['gb_per_month_incl'])*200+550"
   ]
  },
  {
   "cell_type": "code",
   "execution_count": 18,
   "metadata": {},
   "outputs": [
    {
     "data": {
      "text/html": [
       "<div>\n",
       "<style scoped>\n",
       "    .dataframe tbody tr th:only-of-type {\n",
       "        vertical-align: middle;\n",
       "    }\n",
       "\n",
       "    .dataframe tbody tr th {\n",
       "        vertical-align: top;\n",
       "    }\n",
       "\n",
       "    .dataframe thead th {\n",
       "        text-align: right;\n",
       "    }\n",
       "</style>\n",
       "<table border=\"1\" class=\"dataframe\">\n",
       "  <thead>\n",
       "    <tr style=\"text-align: right;\">\n",
       "      <th></th>\n",
       "      <th>tariff</th>\n",
       "      <th>month</th>\n",
       "      <th>user_id</th>\n",
       "      <th>city</th>\n",
       "      <th>sum_calls_duration</th>\n",
       "      <th>count_mess</th>\n",
       "      <th>sum_gb_used</th>\n",
       "      <th>min_incl</th>\n",
       "      <th>mess_incl</th>\n",
       "      <th>gb_per_month_incl</th>\n",
       "      <th>min_used_rub</th>\n",
       "      <th>mess_used_rub</th>\n",
       "      <th>gb_used_rub</th>\n",
       "    </tr>\n",
       "  </thead>\n",
       "  <tbody>\n",
       "    <tr>\n",
       "      <td>0</td>\n",
       "      <td>smart</td>\n",
       "      <td>1</td>\n",
       "      <td>1005</td>\n",
       "      <td>Набережные Челны</td>\n",
       "      <td>94.0</td>\n",
       "      <td>7.0</td>\n",
       "      <td>3.0</td>\n",
       "      <td>500</td>\n",
       "      <td>50</td>\n",
       "      <td>15.0</td>\n",
       "      <td>-668.0</td>\n",
       "      <td>421.0</td>\n",
       "      <td>-1850.0</td>\n",
       "    </tr>\n",
       "    <tr>\n",
       "      <td>1</td>\n",
       "      <td>smart</td>\n",
       "      <td>1</td>\n",
       "      <td>1032</td>\n",
       "      <td>Ульяновск</td>\n",
       "      <td>378.0</td>\n",
       "      <td>38.0</td>\n",
       "      <td>24.0</td>\n",
       "      <td>500</td>\n",
       "      <td>50</td>\n",
       "      <td>15.0</td>\n",
       "      <td>184.0</td>\n",
       "      <td>514.0</td>\n",
       "      <td>2350.0</td>\n",
       "    </tr>\n",
       "    <tr>\n",
       "      <td>2</td>\n",
       "      <td>smart</td>\n",
       "      <td>1</td>\n",
       "      <td>1045</td>\n",
       "      <td>Улан-Удэ</td>\n",
       "      <td>9.0</td>\n",
       "      <td>5.0</td>\n",
       "      <td>3.0</td>\n",
       "      <td>500</td>\n",
       "      <td>50</td>\n",
       "      <td>15.0</td>\n",
       "      <td>-923.0</td>\n",
       "      <td>415.0</td>\n",
       "      <td>-1850.0</td>\n",
       "    </tr>\n",
       "    <tr>\n",
       "      <td>3</td>\n",
       "      <td>smart</td>\n",
       "      <td>1</td>\n",
       "      <td>1055</td>\n",
       "      <td>Казань</td>\n",
       "      <td>550.0</td>\n",
       "      <td>30.0</td>\n",
       "      <td>17.0</td>\n",
       "      <td>500</td>\n",
       "      <td>50</td>\n",
       "      <td>15.0</td>\n",
       "      <td>700.0</td>\n",
       "      <td>490.0</td>\n",
       "      <td>950.0</td>\n",
       "    </tr>\n",
       "    <tr>\n",
       "      <td>4</td>\n",
       "      <td>smart</td>\n",
       "      <td>1</td>\n",
       "      <td>1071</td>\n",
       "      <td>Омск</td>\n",
       "      <td>194.0</td>\n",
       "      <td>16.0</td>\n",
       "      <td>16.0</td>\n",
       "      <td>500</td>\n",
       "      <td>50</td>\n",
       "      <td>15.0</td>\n",
       "      <td>-368.0</td>\n",
       "      <td>448.0</td>\n",
       "      <td>750.0</td>\n",
       "    </tr>\n",
       "  </tbody>\n",
       "</table>\n",
       "</div>"
      ],
      "text/plain": [
       "  tariff  month  user_id              city  sum_calls_duration  count_mess  \\\n",
       "0  smart      1     1005  Набережные Челны                94.0         7.0   \n",
       "1  smart      1     1032         Ульяновск               378.0        38.0   \n",
       "2  smart      1     1045          Улан-Удэ                 9.0         5.0   \n",
       "3  smart      1     1055            Казань               550.0        30.0   \n",
       "4  smart      1     1071              Омск               194.0        16.0   \n",
       "\n",
       "   sum_gb_used  min_incl  mess_incl  gb_per_month_incl  min_used_rub  \\\n",
       "0          3.0       500         50               15.0        -668.0   \n",
       "1         24.0       500         50               15.0         184.0   \n",
       "2          3.0       500         50               15.0        -923.0   \n",
       "3         17.0       500         50               15.0         700.0   \n",
       "4         16.0       500         50               15.0        -368.0   \n",
       "\n",
       "   mess_used_rub  gb_used_rub  \n",
       "0          421.0      -1850.0  \n",
       "1          514.0       2350.0  \n",
       "2          415.0      -1850.0  \n",
       "3          490.0        950.0  \n",
       "4          448.0        750.0  "
      ]
     },
     "execution_count": 18,
     "metadata": {},
     "output_type": "execute_result"
    }
   ],
   "source": [
    "smart_total_df_grouped.head()"
   ]
  },
  {
   "cell_type": "code",
   "execution_count": 19,
   "metadata": {},
   "outputs": [
    {
     "data": {
      "text/plain": [
       "(2229, 13)"
      ]
     },
     "execution_count": 19,
     "metadata": {},
     "output_type": "execute_result"
    }
   ],
   "source": [
    "smart_total_df_grouped.shape"
   ]
  },
  {
   "cell_type": "code",
   "execution_count": 20,
   "metadata": {},
   "outputs": [
    {
     "name": "stdout",
     "output_type": "stream",
     "text": [
      "Считаем для тарифа ultra\n"
     ]
    }
   ],
   "source": [
    "print('Считаем для тарифа ultra')\n",
    "ultra_total_df_grouped = total_df_grouped.query('tariff == \"ultra\"').reset_index().copy()\n",
    "\n",
    "ultra_total_df_grouped['min_incl'] = 3000\n",
    "ultra_total_df_grouped['mess_incl'] = 1000\n",
    "ultra_total_df_grouped['gb_per_month_incl'] = 30720/1024\n",
    "\n",
    "ultra_total_df_grouped['min_used_rub'] = (\n",
    "    ultra_total_df_grouped['sum_calls_duration']-ultra_total_df_grouped['min_incl'])*1+1950\n",
    "ultra_total_df_grouped['mess_used_rub'] = (ultra_total_df_grouped['count_mess']-ultra_total_df_grouped['mess_incl'])*1+1950\n",
    "ultra_total_df_grouped['gb_used_rub'] = (\n",
    "    ultra_total_df_grouped['sum_gb_used']-ultra_total_df_grouped['gb_per_month_incl'])*150+1950"
   ]
  },
  {
   "cell_type": "code",
   "execution_count": 21,
   "metadata": {},
   "outputs": [
    {
     "data": {
      "text/html": [
       "<div>\n",
       "<style scoped>\n",
       "    .dataframe tbody tr th:only-of-type {\n",
       "        vertical-align: middle;\n",
       "    }\n",
       "\n",
       "    .dataframe tbody tr th {\n",
       "        vertical-align: top;\n",
       "    }\n",
       "\n",
       "    .dataframe thead th {\n",
       "        text-align: right;\n",
       "    }\n",
       "</style>\n",
       "<table border=\"1\" class=\"dataframe\">\n",
       "  <thead>\n",
       "    <tr style=\"text-align: right;\">\n",
       "      <th></th>\n",
       "      <th>tariff</th>\n",
       "      <th>month</th>\n",
       "      <th>user_id</th>\n",
       "      <th>city</th>\n",
       "      <th>sum_calls_duration</th>\n",
       "      <th>count_mess</th>\n",
       "      <th>sum_gb_used</th>\n",
       "      <th>min_incl</th>\n",
       "      <th>mess_incl</th>\n",
       "      <th>gb_per_month_incl</th>\n",
       "      <th>min_used_rub</th>\n",
       "      <th>mess_used_rub</th>\n",
       "      <th>gb_used_rub</th>\n",
       "    </tr>\n",
       "  </thead>\n",
       "  <tbody>\n",
       "    <tr>\n",
       "      <td>0</td>\n",
       "      <td>ultra</td>\n",
       "      <td>1</td>\n",
       "      <td>1120</td>\n",
       "      <td>Краснодар</td>\n",
       "      <td>55.0</td>\n",
       "      <td>0.0</td>\n",
       "      <td>1.0</td>\n",
       "      <td>3000</td>\n",
       "      <td>1000</td>\n",
       "      <td>30.0</td>\n",
       "      <td>-995.0</td>\n",
       "      <td>950.0</td>\n",
       "      <td>-2400.0</td>\n",
       "    </tr>\n",
       "    <tr>\n",
       "      <td>1</td>\n",
       "      <td>ultra</td>\n",
       "      <td>1</td>\n",
       "      <td>1126</td>\n",
       "      <td>Санкт-Петербург</td>\n",
       "      <td>272.0</td>\n",
       "      <td>4.0</td>\n",
       "      <td>16.0</td>\n",
       "      <td>3000</td>\n",
       "      <td>1000</td>\n",
       "      <td>30.0</td>\n",
       "      <td>-778.0</td>\n",
       "      <td>954.0</td>\n",
       "      <td>-150.0</td>\n",
       "    </tr>\n",
       "    <tr>\n",
       "      <td>2</td>\n",
       "      <td>ultra</td>\n",
       "      <td>1</td>\n",
       "      <td>1168</td>\n",
       "      <td>Кострома</td>\n",
       "      <td>274.0</td>\n",
       "      <td>14.0</td>\n",
       "      <td>8.0</td>\n",
       "      <td>3000</td>\n",
       "      <td>1000</td>\n",
       "      <td>30.0</td>\n",
       "      <td>-776.0</td>\n",
       "      <td>964.0</td>\n",
       "      <td>-1350.0</td>\n",
       "    </tr>\n",
       "    <tr>\n",
       "      <td>3</td>\n",
       "      <td>ultra</td>\n",
       "      <td>1</td>\n",
       "      <td>1254</td>\n",
       "      <td>Москва</td>\n",
       "      <td>465.0</td>\n",
       "      <td>0.0</td>\n",
       "      <td>20.0</td>\n",
       "      <td>3000</td>\n",
       "      <td>1000</td>\n",
       "      <td>30.0</td>\n",
       "      <td>-585.0</td>\n",
       "      <td>950.0</td>\n",
       "      <td>450.0</td>\n",
       "    </tr>\n",
       "    <tr>\n",
       "      <td>4</td>\n",
       "      <td>ultra</td>\n",
       "      <td>1</td>\n",
       "      <td>1375</td>\n",
       "      <td>Пенза</td>\n",
       "      <td>846.0</td>\n",
       "      <td>75.0</td>\n",
       "      <td>15.0</td>\n",
       "      <td>3000</td>\n",
       "      <td>1000</td>\n",
       "      <td>30.0</td>\n",
       "      <td>-204.0</td>\n",
       "      <td>1025.0</td>\n",
       "      <td>-300.0</td>\n",
       "    </tr>\n",
       "  </tbody>\n",
       "</table>\n",
       "</div>"
      ],
      "text/plain": [
       "  tariff  month  user_id             city  sum_calls_duration  count_mess  \\\n",
       "0  ultra      1     1120        Краснодар                55.0         0.0   \n",
       "1  ultra      1     1126  Санкт-Петербург               272.0         4.0   \n",
       "2  ultra      1     1168         Кострома               274.0        14.0   \n",
       "3  ultra      1     1254           Москва               465.0         0.0   \n",
       "4  ultra      1     1375            Пенза               846.0        75.0   \n",
       "\n",
       "   sum_gb_used  min_incl  mess_incl  gb_per_month_incl  min_used_rub  \\\n",
       "0          1.0      3000       1000               30.0        -995.0   \n",
       "1         16.0      3000       1000               30.0        -778.0   \n",
       "2          8.0      3000       1000               30.0        -776.0   \n",
       "3         20.0      3000       1000               30.0        -585.0   \n",
       "4         15.0      3000       1000               30.0        -204.0   \n",
       "\n",
       "   mess_used_rub  gb_used_rub  \n",
       "0          950.0      -2400.0  \n",
       "1          954.0       -150.0  \n",
       "2          964.0      -1350.0  \n",
       "3          950.0        450.0  \n",
       "4         1025.0       -300.0  "
      ]
     },
     "execution_count": 21,
     "metadata": {},
     "output_type": "execute_result"
    }
   ],
   "source": [
    "ultra_total_df_grouped.head()"
   ]
  },
  {
   "cell_type": "code",
   "execution_count": 22,
   "metadata": {},
   "outputs": [
    {
     "data": {
      "text/plain": [
       "(985, 13)"
      ]
     },
     "execution_count": 22,
     "metadata": {},
     "output_type": "execute_result"
    }
   ],
   "source": [
    "ultra_total_df_grouped.shape"
   ]
  },
  {
   "cell_type": "markdown",
   "metadata": {},
   "source": [
    "#### Вывод\n",
    "\n",
    "Сгруппировал общую таблицу по тарифам. Тарифом Смарт пользуются практически в два раза больше людей чем Ультрой. Видимо отпугивает месячная абонплата в 1950. Это очень интересно, если посмотреть на графики ниже."
   ]
  },
  {
   "cell_type": "markdown",
   "metadata": {},
   "source": [
    "## Шаг 3. Анализ данных<a id=\"stepthree\"></a>   </div>"
   ]
  },
  {
   "cell_type": "markdown",
   "metadata": {},
   "source": [
    "Посмотрим на поведение клиентов оператора, исходя из выборки. \n",
    "\n",
    "Сколько минут разговора, сколько сообщений и какой объём интернет-трафика требуется пользователям каждого тарифа в месяц? \n",
    "\n",
    "### Считаем среднее количество, дисперсию и стандартное отклонение."
   ]
  },
  {
   "cell_type": "code",
   "execution_count": 23,
   "metadata": {},
   "outputs": [
    {
     "name": "stdout",
     "output_type": "stream",
     "text": [
      "Средняя продолжительность звонков. Смарт 384.5502952244915\n",
      "Среднее кол-во сообщений. Смарт 31.413210661085547\n",
      "Средняя кол-во gb. Смарт 15.223806019421163\n"
     ]
    },
    {
     "data": {
      "text/html": [
       "<div>\n",
       "<style scoped>\n",
       "    .dataframe tbody tr th:only-of-type {\n",
       "        vertical-align: middle;\n",
       "    }\n",
       "\n",
       "    .dataframe tbody tr th {\n",
       "        vertical-align: top;\n",
       "    }\n",
       "\n",
       "    .dataframe thead th {\n",
       "        text-align: right;\n",
       "    }\n",
       "</style>\n",
       "<table border=\"1\" class=\"dataframe\">\n",
       "  <thead>\n",
       "    <tr style=\"text-align: right;\">\n",
       "      <th></th>\n",
       "      <th>sum_calls_duration</th>\n",
       "      <th>count_mess</th>\n",
       "      <th>sum_gb_used</th>\n",
       "    </tr>\n",
       "    <tr>\n",
       "      <th>month</th>\n",
       "      <th></th>\n",
       "      <th></th>\n",
       "      <th></th>\n",
       "    </tr>\n",
       "  </thead>\n",
       "  <tbody>\n",
       "    <tr>\n",
       "      <td>1</td>\n",
       "      <td>202.85</td>\n",
       "      <td>18.24</td>\n",
       "      <td>8.74</td>\n",
       "    </tr>\n",
       "    <tr>\n",
       "      <td>2</td>\n",
       "      <td>297.22</td>\n",
       "      <td>24.09</td>\n",
       "      <td>11.84</td>\n",
       "    </tr>\n",
       "    <tr>\n",
       "      <td>3</td>\n",
       "      <td>387.77</td>\n",
       "      <td>31.86</td>\n",
       "      <td>15.25</td>\n",
       "    </tr>\n",
       "    <tr>\n",
       "      <td>4</td>\n",
       "      <td>365.03</td>\n",
       "      <td>30.74</td>\n",
       "      <td>13.64</td>\n",
       "    </tr>\n",
       "    <tr>\n",
       "      <td>5</td>\n",
       "      <td>384.84</td>\n",
       "      <td>33.77</td>\n",
       "      <td>15.94</td>\n",
       "    </tr>\n",
       "    <tr>\n",
       "      <td>6</td>\n",
       "      <td>393.35</td>\n",
       "      <td>33.40</td>\n",
       "      <td>15.98</td>\n",
       "    </tr>\n",
       "    <tr>\n",
       "      <td>7</td>\n",
       "      <td>405.97</td>\n",
       "      <td>33.75</td>\n",
       "      <td>15.91</td>\n",
       "    </tr>\n",
       "    <tr>\n",
       "      <td>8</td>\n",
       "      <td>419.01</td>\n",
       "      <td>33.64</td>\n",
       "      <td>16.78</td>\n",
       "    </tr>\n",
       "    <tr>\n",
       "      <td>9</td>\n",
       "      <td>426.29</td>\n",
       "      <td>33.64</td>\n",
       "      <td>16.42</td>\n",
       "    </tr>\n",
       "    <tr>\n",
       "      <td>10</td>\n",
       "      <td>423.64</td>\n",
       "      <td>33.77</td>\n",
       "      <td>16.91</td>\n",
       "    </tr>\n",
       "    <tr>\n",
       "      <td>11</td>\n",
       "      <td>432.67</td>\n",
       "      <td>34.08</td>\n",
       "      <td>17.03</td>\n",
       "    </tr>\n",
       "    <tr>\n",
       "      <td>12</td>\n",
       "      <td>475.96</td>\n",
       "      <td>35.99</td>\n",
       "      <td>18.23</td>\n",
       "    </tr>\n",
       "  </tbody>\n",
       "</table>\n",
       "</div>"
      ],
      "text/plain": [
       "       sum_calls_duration  count_mess  sum_gb_used\n",
       "month                                             \n",
       "1                  202.85       18.24         8.74\n",
       "2                  297.22       24.09        11.84\n",
       "3                  387.77       31.86        15.25\n",
       "4                  365.03       30.74        13.64\n",
       "5                  384.84       33.77        15.94\n",
       "6                  393.35       33.40        15.98\n",
       "7                  405.97       33.75        15.91\n",
       "8                  419.01       33.64        16.78\n",
       "9                  426.29       33.64        16.42\n",
       "10                 423.64       33.77        16.91\n",
       "11                 432.67       34.08        17.03\n",
       "12                 475.96       35.99        18.23"
      ]
     },
     "execution_count": 23,
     "metadata": {},
     "output_type": "execute_result"
    }
   ],
   "source": [
    "#считаем среднее по тарифу smart\n",
    "pd.options.display.float_format = '{:.2f}'.format\n",
    "mean_smart_df = smart_total_df_grouped.groupby('month')['sum_calls_duration', 'count_mess', 'sum_gb_used'].mean()\n",
    "print('Средняя продолжительность звонков. Смарт', mean_smart_df['sum_calls_duration'].mean())\n",
    "print('Среднее кол-во сообщений. Смарт', mean_smart_df['count_mess'].mean())\n",
    "print('Средняя кол-во gb. Смарт', mean_smart_df['sum_gb_used'].mean())\n",
    "mean_smart_df   "
   ]
  },
  {
   "cell_type": "code",
   "execution_count": 24,
   "metadata": {},
   "outputs": [
    {
     "data": {
      "image/png": "[encoded data removed]",
      "text/plain": [
       "<Figure size 1080x432 with 1 Axes>"
      ]
     },
     "metadata": {
      "needs_background": "light"
     },
     "output_type": "display_data"
    }
   ],
   "source": [
    "mean_smart_df.plot(kind='bar', grid=True, figsize = (15,6), color=['c', 'r', 'm'])\n",
    "plt.title('Среднее количество минут, смс, трафика. Smart')\n",
    "plt.xlabel('месяцы')\n",
    "plt.ylabel('количество')\n",
    "plt.show()"
   ]
  },
  {
   "cell_type": "code",
   "execution_count": 25,
   "metadata": {},
   "outputs": [
    {
     "name": "stdout",
     "output_type": "stream",
     "text": [
      "Дисперсия по выборке smart, минуты разговора: 35847.35040066755\n",
      "Дисперсия по выборке smart, смс: 796.8129584480083\n",
      "Дисперсия по выборке smart, интернет: 33.16030407078876\n"
     ]
    }
   ],
   "source": [
    "# считаем дисперсию по выборке smart, минуты разговора, сообщения, интернет\n",
    "\n",
    "variance_estimate_calls_dur = np.var(smart_total_df_grouped['sum_calls_duration'], ddof=1)\n",
    "variance_estimate_count_mess = np.var(smart_total_df_grouped['count_mess'], ddof=1)\n",
    "variance_estimate_sum_gb_used = np.var(smart_total_df_grouped['sum_gb_used'], ddof=1)\n",
    "\n",
    "\n",
    "print('Дисперсия по выборке smart, минуты разговора:', variance_estimate_calls_dur)\n",
    "print('Дисперсия по выборке smart, смс:', variance_estimate_count_mess)\n",
    "print('Дисперсия по выборке smart, интернет:', variance_estimate_sum_gb_used)"
   ]
  },
  {
   "cell_type": "code",
   "execution_count": 26,
   "metadata": {},
   "outputs": [
    {
     "name": "stdout",
     "output_type": "stream",
     "text": [
      "Стандартное отклонение по выборке smart, минуты разговора: 189.33396525892428\n",
      "Стандартное отклонение по выборке smart, смс: 28.22787555676141\n",
      "Стандартное отклонение по выборке smart, интернет: 5.7584984215321935\n"
     ]
    }
   ],
   "source": [
    "# стандартное отклонение по выборке smart, минуты разговора, сообщения, интернет\n",
    "\n",
    "standard_deviation_calls_dur = np.std(smart_total_df_grouped['sum_calls_duration'], ddof=1)\n",
    "standard_deviation_count_mess = np.std(smart_total_df_grouped['count_mess'], ddof=1)\n",
    "standard_deviation_sum_gb_used = np.std(smart_total_df_grouped['sum_gb_used'], ddof=1)\n",
    "\n",
    "print('Стандартное отклонение по выборке smart, минуты разговора:', standard_deviation_calls_dur)\n",
    "print('Стандартное отклонение по выборке smart, смс:', standard_deviation_count_mess)\n",
    "print('Стандартное отклонение по выборке smart, интернет:', standard_deviation_sum_gb_used)"
   ]
  },
  {
   "cell_type": "code",
   "execution_count": 27,
   "metadata": {},
   "outputs": [
    {
     "name": "stdout",
     "output_type": "stream",
     "text": [
      "Средняя продолжительность звонков. Ультра 493.1539558972259\n",
      "Среднее кол-во сообщений. Ультра 43.71498284147191\n",
      "Средняя кол-во gb. Ультра 18.296772400545716\n"
     ]
    },
    {
     "data": {
      "text/html": [
       "<div>\n",
       "<style scoped>\n",
       "    .dataframe tbody tr th:only-of-type {\n",
       "        vertical-align: middle;\n",
       "    }\n",
       "\n",
       "    .dataframe tbody tr th {\n",
       "        vertical-align: top;\n",
       "    }\n",
       "\n",
       "    .dataframe thead th {\n",
       "        text-align: right;\n",
       "    }\n",
       "</style>\n",
       "<table border=\"1\" class=\"dataframe\">\n",
       "  <thead>\n",
       "    <tr style=\"text-align: right;\">\n",
       "      <th></th>\n",
       "      <th>sum_calls_duration</th>\n",
       "      <th>count_mess</th>\n",
       "      <th>sum_gb_used</th>\n",
       "    </tr>\n",
       "    <tr>\n",
       "      <th>month</th>\n",
       "      <th></th>\n",
       "      <th></th>\n",
       "      <th></th>\n",
       "    </tr>\n",
       "  </thead>\n",
       "  <tbody>\n",
       "    <tr>\n",
       "      <td>1</td>\n",
       "      <td>426.33</td>\n",
       "      <td>33.78</td>\n",
       "      <td>13.33</td>\n",
       "    </tr>\n",
       "    <tr>\n",
       "      <td>2</td>\n",
       "      <td>295.25</td>\n",
       "      <td>21.96</td>\n",
       "      <td>12.00</td>\n",
       "    </tr>\n",
       "    <tr>\n",
       "      <td>3</td>\n",
       "      <td>487.14</td>\n",
       "      <td>32.30</td>\n",
       "      <td>17.70</td>\n",
       "    </tr>\n",
       "    <tr>\n",
       "      <td>4</td>\n",
       "      <td>455.09</td>\n",
       "      <td>31.56</td>\n",
       "      <td>17.00</td>\n",
       "    </tr>\n",
       "    <tr>\n",
       "      <td>5</td>\n",
       "      <td>507.27</td>\n",
       "      <td>37.85</td>\n",
       "      <td>19.43</td>\n",
       "    </tr>\n",
       "    <tr>\n",
       "      <td>6</td>\n",
       "      <td>477.06</td>\n",
       "      <td>41.73</td>\n",
       "      <td>18.96</td>\n",
       "    </tr>\n",
       "    <tr>\n",
       "      <td>7</td>\n",
       "      <td>542.89</td>\n",
       "      <td>49.85</td>\n",
       "      <td>20.54</td>\n",
       "    </tr>\n",
       "    <tr>\n",
       "      <td>8</td>\n",
       "      <td>508.05</td>\n",
       "      <td>48.44</td>\n",
       "      <td>19.64</td>\n",
       "    </tr>\n",
       "    <tr>\n",
       "      <td>9</td>\n",
       "      <td>536.67</td>\n",
       "      <td>52.29</td>\n",
       "      <td>19.25</td>\n",
       "    </tr>\n",
       "    <tr>\n",
       "      <td>10</td>\n",
       "      <td>554.83</td>\n",
       "      <td>58.43</td>\n",
       "      <td>20.09</td>\n",
       "    </tr>\n",
       "    <tr>\n",
       "      <td>11</td>\n",
       "      <td>538.22</td>\n",
       "      <td>55.79</td>\n",
       "      <td>19.83</td>\n",
       "    </tr>\n",
       "    <tr>\n",
       "      <td>12</td>\n",
       "      <td>589.05</td>\n",
       "      <td>60.61</td>\n",
       "      <td>21.78</td>\n",
       "    </tr>\n",
       "  </tbody>\n",
       "</table>\n",
       "</div>"
      ],
      "text/plain": [
       "       sum_calls_duration  count_mess  sum_gb_used\n",
       "month                                             \n",
       "1                  426.33       33.78        13.33\n",
       "2                  295.25       21.96        12.00\n",
       "3                  487.14       32.30        17.70\n",
       "4                  455.09       31.56        17.00\n",
       "5                  507.27       37.85        19.43\n",
       "6                  477.06       41.73        18.96\n",
       "7                  542.89       49.85        20.54\n",
       "8                  508.05       48.44        19.64\n",
       "9                  536.67       52.29        19.25\n",
       "10                 554.83       58.43        20.09\n",
       "11                 538.22       55.79        19.83\n",
       "12                 589.05       60.61        21.78"
      ]
     },
     "execution_count": 27,
     "metadata": {},
     "output_type": "execute_result"
    }
   ],
   "source": [
    "#считаем среднее по тарифу ultra\n",
    "pd.options.display.float_format = '{:.2f}'.format\n",
    "mean_ultra_df = ultra_total_df_grouped.groupby('month')['sum_calls_duration', 'count_mess', 'sum_gb_used'].mean()\n",
    "print('Средняя продолжительность звонков. Ультра', mean_ultra_df['sum_calls_duration'].mean())\n",
    "print('Среднее кол-во сообщений. Ультра', mean_ultra_df['count_mess'].mean())\n",
    "print('Средняя кол-во gb. Ультра', mean_ultra_df['sum_gb_used'].mean())\n",
    "mean_ultra_df"
   ]
  },
  {
   "cell_type": "code",
   "execution_count": 28,
   "metadata": {},
   "outputs": [
    {
     "data": {
      "image/png": "[encoded data removed]",
      "text/plain": [
       "<Figure size 1080x432 with 1 Axes>"
      ]
     },
     "metadata": {
      "needs_background": "light"
     },
     "output_type": "display_data"
    }
   ],
   "source": [
    "mean_ultra_df.plot(kind='bar', grid=True, figsize = (15,6), color=['c', 'r', 'm'])\n",
    "plt.title('Среднее количество минут, смс, трафика. Ultra')\n",
    "plt.xlabel('месяцы')\n",
    "plt.ylabel('количество')\n",
    "plt.show()"
   ]
  },
  {
   "cell_type": "code",
   "execution_count": 29,
   "metadata": {},
   "outputs": [
    {
     "name": "stdout",
     "output_type": "stream",
     "text": [
      "Дисперсия по выборке ultra, минуты разговора: 99756.60867896497\n",
      "Дисперсия по выборке ultra, смс: 2285.266142544674\n",
      "Дисперсия по выборке ultra, интернет: 97.33494903223144\n"
     ]
    }
   ],
   "source": [
    "# считаем дисперсию по выборке ultra, минуты разговора, сообщения, интернет\n",
    "\n",
    "variance_estimate_calls_dur = np.var(ultra_total_df_grouped['sum_calls_duration'], ddof=1)\n",
    "variance_estimate_count_mess = np.var(ultra_total_df_grouped['count_mess'], ddof=1)\n",
    "variance_estimate_sum_gb_used = np.var(ultra_total_df_grouped['sum_gb_used'], ddof=1)\n",
    "\n",
    "print('Дисперсия по выборке ultra, минуты разговора:', variance_estimate_calls_dur)\n",
    "print('Дисперсия по выборке ultra, смс:', variance_estimate_count_mess)\n",
    "print('Дисперсия по выборке ultra, интернет:', variance_estimate_sum_gb_used)"
   ]
  },
  {
   "cell_type": "code",
   "execution_count": 30,
   "metadata": {},
   "outputs": [
    {
     "name": "stdout",
     "output_type": "stream",
     "text": [
      "Стандартное отклонение по выборке ultra, минуты разговора: 315.84269609880954\n",
      "Стандартное отклонение по выборке ultra, смс: 47.80445735017472\n",
      "Стандартное отклонение по выборке ultra, интернет: 9.865847608403012\n"
     ]
    }
   ],
   "source": [
    "# стандартное отклонение по выборке ultra, минуты разговора, сообщения, интернет\n",
    "standard_deviation_calls_dur = np.std(ultra_total_df_grouped['sum_calls_duration'], ddof=1)\n",
    "standard_deviation_count_mess = np.std(ultra_total_df_grouped['count_mess'], ddof=1)\n",
    "standard_deviation_sum_gb_used = np.std(ultra_total_df_grouped['sum_gb_used'], ddof=1)\n",
    "\n",
    "print('Стандартное отклонение по выборке ultra, минуты разговора:', standard_deviation_calls_dur)\n",
    "print('Стандартное отклонение по выборке ultra, смс:', standard_deviation_count_mess)\n",
    "print('Стандартное отклонение по выборке ultra, интернет:', standard_deviation_sum_gb_used)"
   ]
  },
  {
   "cell_type": "markdown",
   "metadata": {},
   "source": [
    "### Построим гистограммы"
   ]
  },
  {
   "cell_type": "code",
   "execution_count": 31,
   "metadata": {},
   "outputs": [
    {
     "data": {
      "text/html": [
       "<div>\n",
       "<style scoped>\n",
       "    .dataframe tbody tr th:only-of-type {\n",
       "        vertical-align: middle;\n",
       "    }\n",
       "\n",
       "    .dataframe tbody tr th {\n",
       "        vertical-align: top;\n",
       "    }\n",
       "\n",
       "    .dataframe thead th {\n",
       "        text-align: right;\n",
       "    }\n",
       "</style>\n",
       "<table border=\"1\" class=\"dataframe\">\n",
       "  <thead>\n",
       "    <tr style=\"text-align: right;\">\n",
       "      <th></th>\n",
       "      <th>messages_included</th>\n",
       "      <th>mb_per_month_included</th>\n",
       "      <th>minutes_included</th>\n",
       "      <th>rub_monthly_fee</th>\n",
       "      <th>rub_per_gb</th>\n",
       "      <th>rub_per_message</th>\n",
       "      <th>rub_per_minute</th>\n",
       "      <th>tariff_name</th>\n",
       "    </tr>\n",
       "  </thead>\n",
       "  <tbody>\n",
       "    <tr>\n",
       "      <td>0</td>\n",
       "      <td>50</td>\n",
       "      <td>15360</td>\n",
       "      <td>500</td>\n",
       "      <td>550</td>\n",
       "      <td>200</td>\n",
       "      <td>3</td>\n",
       "      <td>3</td>\n",
       "      <td>smart</td>\n",
       "    </tr>\n",
       "    <tr>\n",
       "      <td>1</td>\n",
       "      <td>1000</td>\n",
       "      <td>30720</td>\n",
       "      <td>3000</td>\n",
       "      <td>1950</td>\n",
       "      <td>150</td>\n",
       "      <td>1</td>\n",
       "      <td>1</td>\n",
       "      <td>ultra</td>\n",
       "    </tr>\n",
       "  </tbody>\n",
       "</table>\n",
       "</div>"
      ],
      "text/plain": [
       "   messages_included  mb_per_month_included  minutes_included  \\\n",
       "0                 50                  15360               500   \n",
       "1               1000                  30720              3000   \n",
       "\n",
       "   rub_monthly_fee  rub_per_gb  rub_per_message  rub_per_minute tariff_name  \n",
       "0              550         200                3               3       smart  \n",
       "1             1950         150                1               1       ultra  "
      ]
     },
     "execution_count": 31,
     "metadata": {},
     "output_type": "execute_result"
    }
   ],
   "source": [
    "tariffs_df.head() # для наглядности"
   ]
  },
  {
   "cell_type": "code",
   "execution_count": 32,
   "metadata": {},
   "outputs": [
    {
     "data": {
      "image/png": "[encoded data removed]",
      "text/plain": [
       "<Figure size 432x288 with 1 Axes>"
      ]
     },
     "metadata": {
      "needs_background": "light"
     },
     "output_type": "display_data"
    }
   ],
   "source": [
    "ax = smart_total_df_grouped.query('sum_calls_duration > 0')['sum_calls_duration'].hist(bins=50, alpha=0.5, label = 'smart')\n",
    "ultra_total_df_grouped.query('sum_calls_duration > 0')['sum_calls_duration'].hist(bins=50, alpha=0.5, label = 'ultra')\n",
    "\n",
    "plt.title('Количество минут пользователей тарифов') \n",
    "ax.set_ylabel('Кол-во пользователей')\n",
    "ax.set_xlabel('Кол-во минут')\n",
    "ax.legend()\n",
    "plt.show()"
   ]
  },
  {
   "cell_type": "markdown",
   "metadata": {},
   "source": [
    "#### Вывод\n",
    "\n",
    "Пользователей тарифа Smart больше, но разговаривают по телефону они меньше чем пользователи тарифа Ultra. На графике видно, что на Смарте чаще перерасходуют лимит включённых минут, в то время как на Ультре 3000 минут более чем для разговоров. возможно стоит сократить лимит до 1000 минут. Пользователи не выбирают и половины этого времени. Если перемножить перерасход минут на Смарте - примерно 400-500 минут - и стоимость перерасходованной минуты, то получается пользователи Смарта платят иногда столько же сколько и пользователи Ультры. "
   ]
  },
  {
   "cell_type": "code",
   "execution_count": 33,
   "metadata": {},
   "outputs": [
    {
     "data": {
      "text/html": [
       "<div>\n",
       "<style scoped>\n",
       "    .dataframe tbody tr th:only-of-type {\n",
       "        vertical-align: middle;\n",
       "    }\n",
       "\n",
       "    .dataframe tbody tr th {\n",
       "        vertical-align: top;\n",
       "    }\n",
       "\n",
       "    .dataframe thead th {\n",
       "        text-align: right;\n",
       "    }\n",
       "</style>\n",
       "<table border=\"1\" class=\"dataframe\">\n",
       "  <thead>\n",
       "    <tr style=\"text-align: right;\">\n",
       "      <th></th>\n",
       "      <th>messages_included</th>\n",
       "      <th>mb_per_month_included</th>\n",
       "      <th>minutes_included</th>\n",
       "      <th>rub_monthly_fee</th>\n",
       "      <th>rub_per_gb</th>\n",
       "      <th>rub_per_message</th>\n",
       "      <th>rub_per_minute</th>\n",
       "      <th>tariff_name</th>\n",
       "    </tr>\n",
       "  </thead>\n",
       "  <tbody>\n",
       "    <tr>\n",
       "      <td>0</td>\n",
       "      <td>50</td>\n",
       "      <td>15360</td>\n",
       "      <td>500</td>\n",
       "      <td>550</td>\n",
       "      <td>200</td>\n",
       "      <td>3</td>\n",
       "      <td>3</td>\n",
       "      <td>smart</td>\n",
       "    </tr>\n",
       "    <tr>\n",
       "      <td>1</td>\n",
       "      <td>1000</td>\n",
       "      <td>30720</td>\n",
       "      <td>3000</td>\n",
       "      <td>1950</td>\n",
       "      <td>150</td>\n",
       "      <td>1</td>\n",
       "      <td>1</td>\n",
       "      <td>ultra</td>\n",
       "    </tr>\n",
       "  </tbody>\n",
       "</table>\n",
       "</div>"
      ],
      "text/plain": [
       "   messages_included  mb_per_month_included  minutes_included  \\\n",
       "0                 50                  15360               500   \n",
       "1               1000                  30720              3000   \n",
       "\n",
       "   rub_monthly_fee  rub_per_gb  rub_per_message  rub_per_minute tariff_name  \n",
       "0              550         200                3               3       smart  \n",
       "1             1950         150                1               1       ultra  "
      ]
     },
     "execution_count": 33,
     "metadata": {},
     "output_type": "execute_result"
    }
   ],
   "source": [
    "tariffs_df.head() # для наглядности"
   ]
  },
  {
   "cell_type": "code",
   "execution_count": 34,
   "metadata": {},
   "outputs": [
    {
     "data": {
      "image/png": "[encoded data removed]",
      "text/plain": [
       "<Figure size 432x288 with 1 Axes>"
      ]
     },
     "metadata": {
      "needs_background": "light"
     },
     "output_type": "display_data"
    }
   ],
   "source": [
    "ax = smart_total_df_grouped.query(\n",
    "    'count_mess > 0')['count_mess'].hist(bins=50, alpha=0.5, label = 'smart') # удалим немного выбросов\n",
    "ultra_total_df_grouped.query('count_mess != 0')['count_mess'].hist(bins=50, alpha=0.5, label = 'ultra')\n",
    "\n",
    "plt.title('Количество смс пользователей тарифов') \n",
    "ax.set_ylabel('Кол-во пользователей')\n",
    "ax.set_xlabel('Кол-во смс')\n",
    "ax.legend()\n",
    "plt.show()"
   ]
  },
  {
   "cell_type": "markdown",
   "metadata": {},
   "source": [
    "#### Вывод\n",
    "\n",
    "Похожая картина и сообщениями. Пользователи Смарта уходят далеко за пределы лимита 50 сообщений в месяц (отпраляют до 100), в то время как на Ультре 1000 сообщений никому не нужны, едва выходят за границы 150. Возможно стоит сократить лимит до 100, и получать чуть больше выручки."
   ]
  },
  {
   "cell_type": "code",
   "execution_count": 35,
   "metadata": {},
   "outputs": [
    {
     "data": {
      "text/html": [
       "<div>\n",
       "<style scoped>\n",
       "    .dataframe tbody tr th:only-of-type {\n",
       "        vertical-align: middle;\n",
       "    }\n",
       "\n",
       "    .dataframe tbody tr th {\n",
       "        vertical-align: top;\n",
       "    }\n",
       "\n",
       "    .dataframe thead th {\n",
       "        text-align: right;\n",
       "    }\n",
       "</style>\n",
       "<table border=\"1\" class=\"dataframe\">\n",
       "  <thead>\n",
       "    <tr style=\"text-align: right;\">\n",
       "      <th></th>\n",
       "      <th>messages_included</th>\n",
       "      <th>mb_per_month_included</th>\n",
       "      <th>minutes_included</th>\n",
       "      <th>rub_monthly_fee</th>\n",
       "      <th>rub_per_gb</th>\n",
       "      <th>rub_per_message</th>\n",
       "      <th>rub_per_minute</th>\n",
       "      <th>tariff_name</th>\n",
       "    </tr>\n",
       "  </thead>\n",
       "  <tbody>\n",
       "    <tr>\n",
       "      <td>0</td>\n",
       "      <td>50</td>\n",
       "      <td>15360</td>\n",
       "      <td>500</td>\n",
       "      <td>550</td>\n",
       "      <td>200</td>\n",
       "      <td>3</td>\n",
       "      <td>3</td>\n",
       "      <td>smart</td>\n",
       "    </tr>\n",
       "    <tr>\n",
       "      <td>1</td>\n",
       "      <td>1000</td>\n",
       "      <td>30720</td>\n",
       "      <td>3000</td>\n",
       "      <td>1950</td>\n",
       "      <td>150</td>\n",
       "      <td>1</td>\n",
       "      <td>1</td>\n",
       "      <td>ultra</td>\n",
       "    </tr>\n",
       "  </tbody>\n",
       "</table>\n",
       "</div>"
      ],
      "text/plain": [
       "   messages_included  mb_per_month_included  minutes_included  \\\n",
       "0                 50                  15360               500   \n",
       "1               1000                  30720              3000   \n",
       "\n",
       "   rub_monthly_fee  rub_per_gb  rub_per_message  rub_per_minute tariff_name  \n",
       "0              550         200                3               3       smart  \n",
       "1             1950         150                1               1       ultra  "
      ]
     },
     "execution_count": 35,
     "metadata": {},
     "output_type": "execute_result"
    }
   ],
   "source": [
    "tariffs_df.head() # для наглядности"
   ]
  },
  {
   "cell_type": "code",
   "execution_count": 36,
   "metadata": {},
   "outputs": [
    {
     "data": {
      "image/png": "[encoded data removed]",
      "text/plain": [
       "<Figure size 432x288 with 1 Axes>"
      ]
     },
     "metadata": {
      "needs_background": "light"
     },
     "output_type": "display_data"
    }
   ],
   "source": [
    "ax = smart_total_df_grouped['sum_gb_used'].hist(bins=50, alpha=0.5, label = 'smart')\n",
    "ultra_total_df_grouped['sum_gb_used'].hist(bins=50, alpha=0.5, label = 'ultra')\n",
    "\n",
    "plt.title('Количество gb пользователей тарифов') \n",
    "ax.set_ylabel('Кол-во пользователей')\n",
    "ax.set_xlabel('Кол-во gb')\n",
    "ax.legend()\n",
    "plt.show()"
   ]
  },
  {
   "cell_type": "markdown",
   "metadata": {},
   "source": [
    "#### Вывод\n",
    "\n",
    "Видно что пользователям Ультры больше нравится пользоваться интернетом. Лимит практически всегда выбирается полностью, но реже превышается. На Смарте охотно пользуются интернетом и превышают лимит легко почти в два раза. "
   ]
  },
  {
   "cell_type": "markdown",
   "metadata": {},
   "source": [
    "### Описание распределений"
   ]
  },
  {
   "cell_type": "code",
   "execution_count": 37,
   "metadata": {},
   "outputs": [
    {
     "data": {
      "image/png": "[encoded data removed]",
      "text/plain": [
       "<Figure size 432x288 with 1 Axes>"
      ]
     },
     "metadata": {
      "needs_background": "light"
     },
     "output_type": "display_data"
    }
   ],
   "source": [
    "ax = sns.distplot(smart_total_df_grouped.query('sum_calls_duration > 0')['sum_calls_duration'])\n",
    "sns.distplot(ultra_total_df_grouped.query('sum_calls_duration > 0')['sum_calls_duration'])\n",
    "ax.set_ylabel('Кол-во пользователей')\n",
    "ax.set_xlabel('Кол-во минут')\n",
    "plt.show()"
   ]
  },
  {
   "cell_type": "markdown",
   "metadata": {},
   "source": [
    "#### Вывод\n",
    "\n",
    "Очень похожая картина и на графике плотностей. Попробуем автоматизировать построение графиков."
   ]
  },
  {
   "cell_type": "code",
   "execution_count": 38,
   "metadata": {},
   "outputs": [
    {
     "data": {
      "text/html": [
       "<div>\n",
       "<style scoped>\n",
       "    .dataframe tbody tr th:only-of-type {\n",
       "        vertical-align: middle;\n",
       "    }\n",
       "\n",
       "    .dataframe tbody tr th {\n",
       "        vertical-align: top;\n",
       "    }\n",
       "\n",
       "    .dataframe thead th {\n",
       "        text-align: right;\n",
       "    }\n",
       "</style>\n",
       "<table border=\"1\" class=\"dataframe\">\n",
       "  <thead>\n",
       "    <tr style=\"text-align: right;\">\n",
       "      <th></th>\n",
       "      <th>messages_included</th>\n",
       "      <th>mb_per_month_included</th>\n",
       "      <th>minutes_included</th>\n",
       "      <th>rub_monthly_fee</th>\n",
       "      <th>rub_per_gb</th>\n",
       "      <th>rub_per_message</th>\n",
       "      <th>rub_per_minute</th>\n",
       "      <th>tariff_name</th>\n",
       "    </tr>\n",
       "  </thead>\n",
       "  <tbody>\n",
       "    <tr>\n",
       "      <td>0</td>\n",
       "      <td>50</td>\n",
       "      <td>15360</td>\n",
       "      <td>500</td>\n",
       "      <td>550</td>\n",
       "      <td>200</td>\n",
       "      <td>3</td>\n",
       "      <td>3</td>\n",
       "      <td>smart</td>\n",
       "    </tr>\n",
       "    <tr>\n",
       "      <td>1</td>\n",
       "      <td>1000</td>\n",
       "      <td>30720</td>\n",
       "      <td>3000</td>\n",
       "      <td>1950</td>\n",
       "      <td>150</td>\n",
       "      <td>1</td>\n",
       "      <td>1</td>\n",
       "      <td>ultra</td>\n",
       "    </tr>\n",
       "  </tbody>\n",
       "</table>\n",
       "</div>"
      ],
      "text/plain": [
       "   messages_included  mb_per_month_included  minutes_included  \\\n",
       "0                 50                  15360               500   \n",
       "1               1000                  30720              3000   \n",
       "\n",
       "   rub_monthly_fee  rub_per_gb  rub_per_message  rub_per_minute tariff_name  \n",
       "0              550         200                3               3       smart  \n",
       "1             1950         150                1               1       ultra  "
      ]
     },
     "execution_count": 38,
     "metadata": {},
     "output_type": "execute_result"
    }
   ],
   "source": [
    "tariffs_df.head() # для наглядности"
   ]
  },
  {
   "cell_type": "code",
   "execution_count": 39,
   "metadata": {},
   "outputs": [
    {
     "data": {
      "image/png": "[encoded data removed]",
      "text/plain": [
       "<Figure size 720x400 with 1 Axes>"
      ]
     },
     "metadata": {
      "needs_background": "light"
     },
     "output_type": "display_data"
    },
    {
     "data": {
      "image/png": "[encoded data removed]",
      "text/plain": [
       "<Figure size 720x400 with 1 Axes>"
      ]
     },
     "metadata": {
      "needs_background": "light"
     },
     "output_type": "display_data"
    },
    {
     "data": {
      "image/png": "[encoded data removed]",
      "text/plain": [
       "<Figure size 720x400 with 1 Axes>"
      ]
     },
     "metadata": {
      "needs_background": "light"
     },
     "output_type": "display_data"
    }
   ],
   "source": [
    "# построим графики плотности распределения\n",
    "colors = ['green', 'blue']\n",
    "target_col = ['sum_calls_duration', 'count_mess', 'sum_gb_used']\n",
    "\n",
    "for column in target_col:\n",
    "    # шаблон графика\n",
    "    plt.figure(figsize=(9, 5), dpi=80)\n",
    "    plt.grid()\n",
    "    plt.title(column, fontsize=15)\n",
    "    j=0 # итератор по цвету\n",
    "    for column_value, column_slice in total_df.query(\n",
    "        'sum_calls_duration > 0 and count_mess > 0 and count_mess < 100 and sum_gb_used > 0').groupby('tariff'):\n",
    "        # строим график плотности распределения\n",
    "        sns.kdeplot(column_slice[column], shade=True, color=colors[j], label=column_value, alpha=0.5)\n",
    "        j += 1 # переключаем цвет"
   ]
  },
  {
   "cell_type": "markdown",
   "metadata": {},
   "source": [
    "#### Вывод\n",
    "\n",
    "На графиках плотностей видна схожая картина что и на гистограммах выше.\n",
    "Сообщениями пользователи тарифов пользуются практически одинаково, при том, что на Ультре включено в тариф гораздо больше. 1000 сообщений. Можно не звонить вообще, а только смсится. Но эта услуга нынче не так востребована, как интернет. Перерасход трафика на обоих тарифак.\n",
    "\n",
    "Судя по колоколообразным графиками - распределения тяготеют к нормальным, а значит можем использовать t-test."
   ]
  },
  {
   "cell_type": "markdown",
   "metadata": {},
   "source": [
    "## Шаг 4. Проверка гипотез:<a id=\"stepfour\"></a>   </div>\n",
    "\n",
    "- средняя выручка пользователей тарифов «Ультра» и «Смарт» различается;\n",
    "\n",
    "- средняя выручка пользователей из Москвы отличается от выручки пользователей из других регионов;\n",
    "\n",
    "Пороговое значение alpha задаём самостоятельно."
   ]
  },
  {
   "cell_type": "markdown",
   "metadata": {},
   "source": [
    "#### Сформулируем гипотезы для первого утверждения. \n",
    "H-нулевая всегда формулируется так, чтобы использовать знак равенства.\n",
    "- H0: средняя выручка с пользователей тарифа Smart равна средней выручке Ultra\n",
    "- H1: средняя выручка с пользователей тарифа Smart не равна средней выручки Ultra\n",
    "\n",
    "Подготовим данные"
   ]
  },
  {
   "cell_type": "code",
   "execution_count": 40,
   "metadata": {},
   "outputs": [
    {
     "name": "stdout",
     "output_type": "stream",
     "text": [
      "Средняя выручка по тарифу Смарт: 10308.325714285715\n"
     ]
    },
    {
     "data": {
      "text/plain": [
       "(350, 4)"
      ]
     },
     "execution_count": 40,
     "metadata": {},
     "output_type": "execute_result"
    }
   ],
   "source": [
    "# все выручки каждого пользователя по тарифу смарт и среднее\n",
    "earn_smart = smart_total_df_grouped.groupby(['user_id', 'city'])['min_used_rub', 'mess_used_rub', 'gb_used_rub'].sum()\n",
    "earn_smart['sum'] = earn_smart['min_used_rub']+earn_smart['mess_used_rub']+earn_smart['gb_used_rub']\n",
    "print('Средняя выручка по тарифу Смарт:', earn_smart['sum'].mean())\n",
    "earn_smart.head()\n",
    "earn_smart.shape"
   ]
  },
  {
   "cell_type": "code",
   "execution_count": 41,
   "metadata": {},
   "outputs": [
    {
     "name": "stdout",
     "output_type": "stream",
     "text": [
      "Средняя выручка по тарифу Ультра: 5669.493243243243\n"
     ]
    },
    {
     "data": {
      "text/plain": [
       "(148, 4)"
      ]
     },
     "execution_count": 41,
     "metadata": {},
     "output_type": "execute_result"
    }
   ],
   "source": [
    "# все выручки каждого пользователя по тарифу ультра и среднее\n",
    "earn_ultra = ultra_total_df_grouped.groupby(['user_id', 'city'])['min_used_rub', 'mess_used_rub', 'gb_used_rub'].sum()\n",
    "earn_ultra['sum'] = earn_ultra['min_used_rub']+earn_ultra['mess_used_rub']+earn_ultra['gb_used_rub']\n",
    "print('Средняя выручка по тарифу Ультра:', earn_ultra['sum'].mean())\n",
    "earn_ultra.head()\n",
    "earn_ultra.shape"
   ]
  },
  {
   "cell_type": "code",
   "execution_count": 42,
   "metadata": {},
   "outputs": [
    {
     "data": {
      "image/png": "[encoded data removed]",
      "text/plain": [
       "<Figure size 432x288 with 1 Axes>"
      ]
     },
     "metadata": {
      "needs_background": "light"
     },
     "output_type": "display_data"
    }
   ],
   "source": [
    "# смотрим распределение\n",
    "ax = sns.distplot(earn_smart['sum'])\n",
    "sns.distplot(earn_ultra['sum'])\n",
    "ax.set_xlabel('Выручка')\n",
    "plt.grid()"
   ]
  },
  {
   "cell_type": "markdown",
   "metadata": {},
   "source": [
    "### Проверим гипотезы\n",
    "\n",
    "- H0: средняя выручка с пользователей тарифа Smart равна средней выручке Ultra\n",
    "- H1: средняя выручка с пользователей тарифа Smart не равна средней выручки Ultra\n"
   ]
  },
  {
   "cell_type": "code",
   "execution_count": 43,
   "metadata": {},
   "outputs": [
    {
     "name": "stdout",
     "output_type": "stream",
     "text": [
      "p-значение: 3.061133949510358e-07\n",
      "Отвергаем нулевую гипотезу\n"
     ]
    }
   ],
   "source": [
    "# Проверим первое утверждение и гипотезы к нему:\n",
    "# средняя выручка пользователей тарифов «Ультра» и «Смарт» различается\n",
    "# H0: средняя выручка с пользователей тарифа Smart равна средней выручке Ultra\n",
    "# H1: средняя выручка с пользователей тарифа Smart не равна средней выручки Ultra\n",
    "\n",
    "alpha = 0.05 #критический уровень статистической значимости\n",
    "\n",
    "results = st.ttest_ind(earn_smart['sum'], earn_ultra['sum'], equal_var = False) # выборки не равны\n",
    "\n",
    "print('p-значение:', results.pvalue)\n",
    "\n",
    "    \n",
    "if (results.pvalue < alpha):\n",
    "    print(\"Отвергаем нулевую гипотезу\")\n",
    "else:\n",
    "    print(\"Не получилось отвергнуть нулевую гипотезу\")"
   ]
  },
  {
   "cell_type": "markdown",
   "metadata": {},
   "source": [
    "### Вывод\n",
    "\n",
    "В данном тесте мы используем статистический критерий Стьюдента, потому что как видно из графика, данные распределены нормально. Полученное значение p-value говорит о том, что средняя выручка по Москве и регионам очевидно отличается и получить случайно такой результат представляется невозможным. "
   ]
  },
  {
   "cell_type": "markdown",
   "metadata": {},
   "source": [
    "### Проверим утверждение: средняя выручка пользователей из Москвы отличается от выручки пользователей из других регионов\n",
    "\n",
    "Есть возможность проверить это утверждение с разбивкой на тарифы. Можем сравнить выручки по тарифам только по Москве и только по регионам. А так же сравнить выручки по тарифам между регионами и Москвой.\n",
    "\n",
    "#### Сформулируем нулевую и альтернативную гипотезы для сравнения выручек по тарифам по Москве:\n",
    "- H0: средняя выручка тарифа Смарт по Москве равна средней выручке тарифа Ультра по Москве,\n",
    "- H1: средняя выручка тарифа Смарт по Москве не равна средней выручке тарифа Ультра по Москве.\n",
    "\n",
    "Подготовим данные, сделаем срезы."
   ]
  },
  {
   "cell_type": "code",
   "execution_count": 44,
   "metadata": {},
   "outputs": [],
   "source": [
    "# ultra_city_mean = ultra_total_df_grouped.groupby('city')['min_used_rub', 'mess_used_rub', 'gb_used_rub'].mean()\n",
    "# ultra_city_mean['earn'] = ultra_city_mean['min_used_rub']+ultra_city_mean['mess_used_rub']+ultra_city_mean['gb_used_rub']\n",
    "\n",
    "# smart_city_mean = smart_total_df_grouped.groupby('city')['min_used_rub', 'mess_used_rub', 'gb_used_rub'].mean()\n",
    "# smart_city_mean['earn'] = smart_city_mean['min_used_rub']+smart_city_mean['mess_used_rub']+smart_city_mean['gb_used_rub']\n",
    "\n",
    "moscow_smart_earn = earn_smart.query('city == \"Москва\"')\n",
    "moscow_ultra_earn = earn_ultra.query('city == \"Москва\"')\n",
    "\n",
    "region_smart_earn = earn_smart.query('city != \"Москва\"')\n",
    "region_ultra_earn = earn_ultra.query('city != \"Москва\"')\n",
    "\n",
    "moscow_total_earn = moscow_smart_earn.merge(\n",
    "    moscow_ultra_earn, on=['user_id', 'city', 'min_used_rub', 'mess_used_rub', 'gb_used_rub', 'sum'], how='outer')\n",
    "region_total_earn = region_smart_earn.merge(\n",
    "    region_ultra_earn, on=['user_id', 'city', 'min_used_rub', 'mess_used_rub', 'gb_used_rub', 'sum'], how='outer')"
   ]
  },
  {
   "cell_type": "code",
   "execution_count": 45,
   "metadata": {},
   "outputs": [
    {
     "data": {
      "image/png": "[encoded data removed]",
      "text/plain": [
       "<Figure size 432x288 with 1 Axes>"
      ]
     },
     "metadata": {
      "needs_background": "light"
     },
     "output_type": "display_data"
    }
   ],
   "source": [
    "# смотрим распределение\n",
    "ax = sns.distplot(moscow_smart_earn['sum'])\n",
    "sns.distplot(moscow_ultra_earn['sum'])\n",
    "ax.set_xlabel('Выручка')\n",
    "plt.grid()"
   ]
  },
  {
   "cell_type": "markdown",
   "metadata": {},
   "source": [
    "#### Проверим гипотезу\n",
    "- H0: средняя выручка тарифа Смарт по Москве равна средней выручке тарифа Ультра по Москве,\n",
    "- H1: средняя выручка тарифа Смарт по Москве не равна средней выручке тарифа Ультра по Москве."
   ]
  },
  {
   "cell_type": "code",
   "execution_count": 46,
   "metadata": {},
   "outputs": [
    {
     "name": "stdout",
     "output_type": "stream",
     "text": [
      "p-значение:  0.6274093878616391\n",
      "Не получилось отвергнуть нулевую гипотезу\n"
     ]
    }
   ],
   "source": [
    "# H0: средняя выручка тарифа Смарт по Москве равна средней выручке тарифа Ультра по Москве,\n",
    "# H1: средняя выручка тарифа Смарт по Москве не равна средней выручке тарифа Ультра по Москве.\n",
    "\n",
    "# зададим уровень критической статистической значимости\n",
    "alpha = 0.05\n",
    "\n",
    "# проверим нулевую гипотезу\n",
    "results_mos = st.ttest_ind(moscow_smart_earn['sum'], moscow_ultra_earn['sum'])\n",
    "\n",
    "print(\"p-значение: \", results_mos.pvalue)\n",
    "\n",
    "\n",
    "if (results_mos.pvalue < alpha):\n",
    "    print(\"Отвергаем нулевую гипотезу\")\n",
    "else:\n",
    "    print(\"Не получилось отвергнуть нулевую гипотезу\")"
   ]
  },
  {
   "cell_type": "markdown",
   "metadata": {},
   "source": [
    "### Вывод\n",
    "\n",
    "В данном тесте мы также используем статистический критерий Стьюдента, потому что как видно из графика, данные распределены нормально. Удивительно, но можно утверждать с вероятностью 60%, что средняя выручка по тарифу Смарт равна средней выручке по таифу Ультра по Москве."
   ]
  },
  {
   "cell_type": "markdown",
   "metadata": {},
   "source": [
    "#### Проверим гипотезу\n",
    "\n",
    "- H0: средняя выручка тарифа Смарт по регионам равна средней выручке тарифа Ультра по регионам,\n",
    "- H1: средняя выручка тарифа Смарт по регионам не равна средней выручке тарифа Ультра по регионам."
   ]
  },
  {
   "cell_type": "code",
   "execution_count": 47,
   "metadata": {},
   "outputs": [
    {
     "name": "stdout",
     "output_type": "stream",
     "text": [
      "p-значение:  2.9250451876450844e-08\n",
      "Отвергаем нулевую гипотезу\n"
     ]
    }
   ],
   "source": [
    "# H0: средняя выручка тарифа Смарт по регионам равна средней выручке тарифа Ультра по регионам,\n",
    "# H1: средняя выручка тарифа Смарт по регионам не равна средней выручке тарифа Ультра по регионам.\n",
    "\n",
    "# зададим уровень критической статистической значимости\n",
    "alpha = 0.05\n",
    "\n",
    "# проверим нулевую гипотезу\n",
    "results_reg = st.ttest_ind(region_smart_earn['sum'], region_ultra_earn['sum'], equal_var = False)\n",
    "\n",
    "print(\"p-значение: \", results_reg.pvalue)\n",
    "\n",
    "\n",
    "if (results_reg.pvalue < alpha):\n",
    "    print(\"Отвергаем нулевую гипотезу\")\n",
    "else:\n",
    "    print(\"Не получилось отвергнуть нулевую гипотезу\")"
   ]
  },
  {
   "cell_type": "markdown",
   "metadata": {},
   "source": [
    "### Вывод\n",
    "\n",
    "А вот выручки по регионам с большой вероятностью различны."
   ]
  },
  {
   "cell_type": "code",
   "execution_count": 48,
   "metadata": {},
   "outputs": [
    {
     "data": {
      "image/png": "[encoded data removed]",
      "text/plain": [
       "<Figure size 432x288 with 1 Axes>"
      ]
     },
     "metadata": {
      "needs_background": "light"
     },
     "output_type": "display_data"
    }
   ],
   "source": [
    "# посмотрим пределение\n",
    "ax = sns.distplot(moscow_total_earn['sum'])\n",
    "sns.distplot(region_total_earn['sum'])\n",
    "ax.set_xlabel('Выручка')\n",
    "plt.grid()"
   ]
  },
  {
   "cell_type": "markdown",
   "metadata": {},
   "source": [
    "### Сформулируем нулевую и альтернативную гипотезы:\n",
    "\n",
    "- H0: средняя выручка по Москве равна средней выручке по регионам,\n",
    "- H1: средняя выручка по Москве не равна средней выручке по регионам."
   ]
  },
  {
   "cell_type": "code",
   "execution_count": 49,
   "metadata": {},
   "outputs": [
    {
     "name": "stdout",
     "output_type": "stream",
     "text": [
      "p-значение:  0.8094124910584182\n",
      "Не получилось отвергнуть нулевую гипотезу\n"
     ]
    }
   ],
   "source": [
    "# зададим уровень критической статистической значимости\n",
    "alpha = 0.05\n",
    "\n",
    "# проверим нулевую гипотезу\n",
    "results_total = st.ttest_ind(moscow_total_earn['sum'], region_total_earn['sum'], equal_var = False)\n",
    "\n",
    "print(\"p-значение: \", results_total.pvalue)\n",
    "\n",
    "\n",
    "if (results_total.pvalue < alpha):\n",
    "    print(\"Отвергаем нулевую гипотезу\")\n",
    "else:\n",
    "    print(\"Не получилось отвергнуть нулевую гипотезу\")"
   ]
  },
  {
   "cell_type": "markdown",
   "metadata": {},
   "source": [
    "### Вывод\n",
    "\n",
    "В данном тесте мы снова используем статистический критерий Стьюдента, потому что как видно из графика, данные распределены нормально. Получаем, что средняя выручка по Москве не отличается от средней выручки по регионам. "
   ]
  },
  {
   "cell_type": "code",
   "execution_count": 50,
   "metadata": {},
   "outputs": [
    {
     "name": "stdout",
     "output_type": "stream",
     "text": [
      "Дисперсия по выборке Москва, выручка: 68419191.20243248\n",
      "Дисперсия по выборке регионы, выручка: 76057053.15647157\n"
     ]
    }
   ],
   "source": [
    "# найдём дисперсии\n",
    "variance_estimate_moscow = np.var(moscow_total_earn['sum'], ddof=1)\n",
    "variance_estimate_region = np.var(region_total_earn['sum'], ddof=1)\n",
    "print('Дисперсия по выборке Москва, выручка:', variance_estimate_moscow)\n",
    "print('Дисперсия по выборке регионы, выручка:', variance_estimate_region)"
   ]
  },
  {
   "cell_type": "markdown",
   "metadata": {},
   "source": [
    "## Шаг 5. Общие выводы<a id=\"stepfive\"></a>   </div>\n",
    "\n",
    "Для анализа представлены 5 таблиц с информацией о пльзователях, о двух сравниваемых тарифах, количестве и продолжительности звонков, объёма используемого трафика и количестве сообщений.\n",
    "\n",
    "Клиентам предлагают два тарифных плана: «Смарт» и «Ультра». Чтобы скорректировать рекламный бюджет, коммерческий департамент хочет понять, какой тариф приносит больше денег. Это главный вопрос - \"больше денег\". \n",
    "\n",
    "Если посмотреть на срезвы по тарифам, то можно наблюдать, что тарифом Смарт пользуются практически в два раза больше людей чем Ультрой. Видимо отпугивает месячная абонплата в 1950. Это очень любопытно, если посмотреть на графики.\n",
    "\n",
    "Из гистограммы по месяцам видно, что активность пользователей растёт от месяца к месяцу, в конце года пользователи ведут себя активнее, чем в начале. Так же видим, пользователи тарифа Ультра ведут себя активнее чем люди на Смарте. Показатели среднего звонков, сообщений и трафика подтверждают это:\n",
    "\n",
    "- Средняя продолжительность звонков. Смарт 384.5502952244915\n",
    "- Среднее кол-во сообщений. Смарт 31.413210661085547\n",
    "- Средняя кол-во gb. Смарт 15.223806019421163\n",
    "\n",
    "\n",
    "- Средняя продолжительность звонков. Ультра 493.1539558972259\n",
    "- Среднее кол-во сообщений. Ультра 43.71498284147191\n",
    "- Средняя кол-во gb. Ультра 18.296772400545716\n",
    "\n",
    "\n",
    "- Дисперсия по выборке smart, минуты разговора: 35847.35040066755\n",
    "- Дисперсия по выборке smart, смс: 796.8129584480083\n",
    "- Дисперсия по выборке smart, интернет: 33.16030407078876\n",
    "\n",
    "\n",
    "- Дисперсия по выборке ultra, минуты разговора: 99756.60867896497\n",
    "- Дисперсия по выборке ultra, смс: 2285.266142544674\n",
    "- Дисперсия по выборке ultra, интернет: 97.33494903223144\n",
    "\n",
    "\n",
    "- Стандартное отклонение по выборке smart, минуты разговора: 189.33396525892428\n",
    "- Стандартное отклонение по выборке smart, смс: 28.22787555676141\n",
    "- Стандартное отклонение по выборке smart, интернет: 5.7584984215321935\n",
    "\n",
    "\n",
    "- Стандартное отклонение по выборке ultra, минуты разговора: 315.84269609880954\n",
    "- Стандартное отклонение по выборке ultra, смс: 47.80445735017472\n",
    "- Стандартное отклонение по выборке ultra, интернет: 9.865847608403012\n",
    "\n",
    "\n",
    "- Дисперсия по выборке Москва, выручка: 68419191.20243248\n",
    "- Дисперсия по выборке регионы, выручка: 76057053.15647157\n",
    "\n",
    "\n",
    "Если взглянуть на гистограммы, то заметно, что пользователей тарифа Smart больше, но разговаривают по телефону они меньше чем пользователи тарифа Ultra. На графике видно, что на Смарте чаще перерасходуют лимит включённых минут, в то время как на Ультре 3000 минут более чем для разговоров. Пользователи Ультры не выбирают и половины этого времени. \n",
    "\n",
    "Возможно стоит сократить лимит тарифа Ультра до 1000 минут для получения большей выручки. На графике плотности заметно, что пользователям обоих тарифов достаточно 1000-1500 минут в месяц. Интересно, что самый частый показатель продолжительности разговоров на обоих тарифах согласно графикам находится в районе 500 минут.\n",
    "\n",
    "Любопытно следующее - если перемножить перерасход минут на Смарте - примерно 400-500 минут - и стоимость перерасходованной минуты, то получается пользователи Смарта платят иногда столько же сколько и пользователи Ультры.\n",
    "\n",
    "Похожая картина и сообщениями. Пользователи Смарта уходят далеко за пределы лимита 50 сообщений в месяц (отпраляют до 100), в то время как на Ультре 1000 сообщений никому не нужны, едва выходят за границы 150. Возможно стоит сократить лимит до 100, и получать чуть больше выручки. На графике плотности видим, что пользователи обоих тарифов удовлетворяются примерно одинаковым количеством сообщений - 80-100. А в месяц отправляют чаще всего 20-40 смс.\n",
    "\n",
    "И снова если перемножить количество перебранных сообщений по тарифу Смарт - почти треть пользователей перебирают до 50 смс - и рубли за овер лимит, то получим - 150 рублей только на смс переплачивают смартовцы.\n",
    "\n",
    "По графикам пользования интернетом видно что пользователям Ультры больше нравится пользоваться интернетом. Лимит практически всегда выбирается полностью, но реже превышается. На Смарте охотно пользуются интернетом и почти половина пользователей превышают лимит легко почти в два раза. За что им приходится платить довольно высокую цену.\n",
    "\n",
    "Глядя на графики можно заметить что чаще всего показатель в 15-20 гб удовлетворяет потребности пользователей.\n",
    "\n",
    "Графики плотностей показывают, что данные распределены нормално, поэтому можем использовать ttest. Проверим несколько гипотез.\n",
    "\n",
    "Из формулировки задания понятно что это двухсторонние гипотезы:\n",
    "- средняя выручка пользователей тарифов «Ультра» и «Смарт» различается;\n",
    "- средняя выручка пользователей из Москвы отличается от выручки пользователей из других регионов;\n",
    "\n",
    "Для начала сравним выручки. H-нулевая всегда формулируется так, чтобы использовать знак равенства.\n",
    "\n",
    "- H0: средняя выручка с пользователей тарифа Smart равна средней выручке Ultra\n",
    "- H1: средняя выручка с пользователей тарифа Smart не равна средней выручки Ultra\n",
    "\n",
    "Показатель p-значение говорит о том, что мы не можем принять нулевую гипотезу о равенстве средних выручек тарифов. Если просто посмотреть на средние выручки, то тариф Смарт явно лидирует. Тариф Ультра нуждается в доработке, перспективы у него есть, так как понятно, что пользователи тарифа - это не массовая аудитория.\n",
    "\n",
    "Далее проверим утверждение: средняя выручка пользователей из Москвы отличается от выручки пользователей из других регионов\n",
    "Была возможность проверить это утверждение с разбивкой на тарифы. Можем сравнить выручки по тарифам только по Москве и только по регионам. А так же сравнить выручки по тарифам между регионами и Москвой.\n",
    "\n",
    "Сформулируем нулевую и альтернативную гипотезы для сравнения выручек по тарифам по Москве:\n",
    "- H0: средняя выручка тарифа Смарт по Москве равна средней выручке тарифа Ультра по Москве,\n",
    "- H1: средняя выручка тарифа Смарт по Москве не равна средней выручке тарифа Ультра по Москве.\n",
    "\n",
    "Удивительно, но можно утверждать с вероятностью 60%, что средняя выручка по тарифу Смарт равна средней выручке по таифу Ультра по Москве. С Ультрой явно нужно то то делать. По Москве из Ультры явно можно выжать больше. Рекламировать этот тариф в нынешнем состоянии явно не стоит.\n",
    "\n",
    "Далее проверяем выручки с тарифов по регионам.\n",
    "- H0: средняя выручка тарифа Смарт по регионам равна средней выручке тарифа Ультра по регионам,\n",
    "- H1: средняя выручка тарифа Смарт по регионам не равна средней выручке тарифа Ультра по регионам.\n",
    "\n",
    "По Москве средние выручки тарифов равны, а вот по регионам различаются.\n",
    "\n",
    "И наконец:\n",
    "- H0: средняя выручка по Москве равна средней выручке по регионам,\n",
    "- H1: средняя выручка по Москве не равна средней выручке по регионам.\n",
    "\n",
    "Тут можно говорить о том, что с большой вероятностью можно говорить о том, что средняя выручка по Москве равно средней выручке по регионам. Показатели дисперсий также сопоставимы.\n",
    "\n",
    "Но, по идее средняя выручка по Москве должна быть выше. И тут нужно работать с тарифом Ультра. Именно за счёт него можно получить ещ больше денег с пользователей, даже не за счёт повышения цен, а за счёт настройки и доработки тарифа. \n",
    "\n",
    "- Пользователи тарифа Смарт часто выходят из лимита по минутам разговора, смс и трафику. И часто платят в месяц примерно столько же сколько и пользователи Ультры.\n",
    "- Пользователи Ультры говорят по телефону дольше, но чаще не выходят за рамки лимита по минутам, зато чаще и больше пользуются интернетом так же почти без перерасхода.\n",
    "- Тариф Смарт больше ориентирован на массовую аудиторию, поэтому врядли пользователи Смарта будут переходить на тариф Ультра.\n",
    "\n",
    "На данном этапе тариф Смарт приносит Мегалайну больше денег, а значит этот тариф лучше. Рекламировать целесообразнее тариф Ультра, с него и денег можно больше получить. Но только после тщательной доработки и возможно его стоит активнее продвигать на территории столицы. На Смарт и без рекламы будут приходить пользователи за счёт меньшей видимой абонплаты."
   ]
  },
  {
   "cell_type": "code",
   "execution_count": null,
   "metadata": {},
   "outputs": [],
   "source": []
  }
 ],
 "metadata": {
  "kernelspec": {
   "display_name": "Python 3",
   "language": "python",
   "name": "python3"
  },
  "language_info": {
   "codemirror_mode": {
    "name": "ipython",
    "version": 3
   },
   "file_extension": ".py",
   "mimetype": "text/x-python",
   "name": "python",
   "nbconvert_exporter": "python",
   "pygments_lexer": "ipython3",
   "version": "3.7.6"
  }
 },
 "nbformat": 4,
 "nbformat_minor": 2
}
